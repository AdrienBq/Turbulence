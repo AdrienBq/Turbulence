{
 "cells": [
  {
   "cell_type": "code",
   "execution_count": 1,
   "metadata": {},
   "outputs": [],
   "source": [
    "import pandas as pd\n",
    "import xarray as xr\n",
    "import numpy as np\n",
    "import matplotlib.pyplot as plt\n",
    "from tqdm import tqdm, trange\n",
    "import netCDF4 as nc\n",
    "\n",
    "import os\n",
    "import sys\n",
    "from pathlib import Path\n",
    "\n",
    "os.chdir(Path(sys.path[0]).parent)\n",
    "import modules.utils as utils\n",
    "\n",
    "import torch\n",
    "import torch.nn as nn\n",
    "import torch.nn.functional as F"
   ]
  },
  {
   "cell_type": "markdown",
   "metadata": {},
   "source": [
    "## Prepare the data"
   ]
  },
  {
   "cell_type": "code",
   "execution_count": 2,
   "metadata": {},
   "outputs": [],
   "source": [
    "coarse_factors = [32]\n",
    "Directory = f\"data\"\n",
    "\n",
    "variables=['u', 'v', 'w', 'theta', 's', 'tke', 'wtheta']\n",
    "nz=376\n",
    "\n",
    "len_samples = nz*len(variables)\n",
    "len_in = nz*(len(variables)-1)\n",
    "len_out = nz\n",
    "\n",
    "model_number = 11\n",
    "tmin=1\n",
    "tmax=62+1"
   ]
  },
  {
   "cell_type": "markdown",
   "metadata": {},
   "source": [
    "### Split train test ds"
   ]
  },
  {
   "cell_type": "code",
   "execution_count": 3,
   "metadata": {},
   "outputs": [],
   "source": [
    "path_times_train = f'data/test_train_times/times_train_{model_number}.csv'\n",
    "path_times_test = f'data/test_train_times/times_test_{model_number}.csv'\n",
    "isFile = os.path.isfile(path_times_train) and os.path.isfile(path_times_test)\n",
    "\n",
    "if not isFile :\n",
    "    utils.split_times(tmin,tmax,model_number)\n",
    "    \n",
    "train_times = pd.read_csv(path_times_train).drop(columns=['Unnamed: 0']).to_numpy().transpose()[0]\n",
    "test_times = pd.read_csv(path_times_test).drop(columns=['Unnamed: 0']).to_numpy().transpose()[0]"
   ]
  },
  {
   "cell_type": "code",
   "execution_count": 4,
   "metadata": {},
   "outputs": [],
   "source": [
    "input_train, output_train, input_test, output_test = utils.make_train_test_ds(coarse_factors, len_in, train_times, test_times, Directory)"
   ]
  },
  {
   "cell_type": "markdown",
   "metadata": {},
   "source": [
    "## Define the model"
   ]
  },
  {
   "cell_type": "code",
   "execution_count": 5,
   "metadata": {
    "tags": []
   },
   "outputs": [],
   "source": [
    "class DNN(nn.Module):\n",
    "    def __init__(self, batch_size, input_size, output_size, drop_prob1=0.2, drop_prob2=0.3, drop_prob3=0.4, hidden_size1=1024, hidden_size2=512, hidden_size3=256):\n",
    "        super(DNN, self).__init__()\n",
    "        self.regression = nn.Sequential(nn.Linear(input_size, hidden_size1),\n",
    "                                        nn.ReLU(),\n",
    "                                        nn.Dropout(drop_prob1),\n",
    "                                        nn.Linear(hidden_size1, hidden_size2),\n",
    "                                        nn.ReLU(),\n",
    "                                        nn.Dropout(drop_prob2),\n",
    "                                        nn.Linear(hidden_size2, hidden_size3),\n",
    "                                        nn.ReLU(),\n",
    "                                        nn.Dropout(drop_prob3),\n",
    "                                        nn.Linear(hidden_size3, output_size)\n",
    "                                        )\n",
    "        self.drop_prob1 = drop_prob1\n",
    "        self.drop_prob2 = drop_prob2\n",
    "        self.drop_prob3 = drop_prob3\n",
    "        self.batch_size = batch_size\n",
    "        self.input_shape = input_size\n",
    "        self.output_shape = output_size\n",
    "        self.hidden_size1 = hidden_size1\n",
    "        self.hidden_size2 = hidden_size2\n",
    "        self.hidden_size3 = hidden_size3\n",
    "\n",
    "    \n",
    "    def forward(self, x):\n",
    "        return self.regression(x)"
   ]
  },
  {
   "cell_type": "markdown",
   "metadata": {},
   "source": [
    "## Train and test the model"
   ]
  },
  {
   "cell_type": "code",
   "execution_count": null,
   "metadata": {},
   "outputs": [],
   "source": [
    "learning_rates = [2*1e-5]\n",
    "batch_size = 16     # obligé de le mettre à 16 car sinon le nombre total de samples n'est pas divisible par batch_size \n",
    "nb_epochs = [200]   # et on ne peut donc pas reshape. Sinon il ne pas prendre certains samples pour que ça tombe juste.\n",
    "train_losses=[]\n",
    "test_losses=[]\n",
    "models=[]\n",
    "n_batches = input_train.shape[0]//batch_size\n",
    "\n",
    "for i in range(len(learning_rates)):\n",
    "    model = DNN(batch_size=batch_size,input_size=len_in,output_size=len_out)\n",
    "    optimizer = torch.optim.Adam(model.parameters(), lr=learning_rates[i])\n",
    "    scheduler = torch.optim.lr_scheduler.ExponentialLR(optimizer, 0.985, last_epoch= -1)\n",
    "    models.append(model)\n",
    "    train_losses_i = []\n",
    "    test_losses_i = []\n",
    "    for epoch in trange(nb_epochs[i], leave=False):\n",
    "        model.train()\n",
    "        tot_losses=0\n",
    "        indexes_arr = np.random.permutation(input_train.shape[0]).reshape(-1, batch_size)\n",
    "        for i_batch in indexes_arr:\n",
    "            input_batch = input_train[i_batch,:]\n",
    "            output_batch = output_train[i_batch,:]\n",
    "            optimizer.zero_grad()\n",
    "            # forward pass\n",
    "            output_pred = model(input_batch)\n",
    "            # compute loss\n",
    "            loss = F.mse_loss(output_pred, output_batch, reduction='sum')\n",
    "            tot_losses += loss.item()\n",
    "            # backward pass\n",
    "            loss.backward()\n",
    "            optimizer.step()\n",
    "        train_losses_i.append(tot_losses/n_batches)     # loss moyenne sur tous les batchs \n",
    "                                                        # comme on a des batch 2 fois plus petit (16 au lieu de 32)\n",
    "        model.eval()                                    # on a une loss en moyenne 2 fois plus petite\n",
    "        # prediction\n",
    "        output_pred = model(input_test)\n",
    "        # compute loss\n",
    "        test_loss = F.mse_loss(output_pred, output_test, reduction='sum') / (input_test.shape[0]//batch_size)\n",
    "        test_losses_i.append(test_loss.item())\n",
    "\n",
    "        if epoch < 300:\n",
    "            scheduler.step()\n",
    "\n",
    "    train_losses.append(train_losses_i)\n",
    "    test_losses.append(test_losses_i)\n",
    "    print('Model {},Epoch [{}/{}], Loss: {:.6f}'.format(i+1,epoch+1, nb_epochs[i], tot_losses/n_batches))"
   ]
  },
  {
   "cell_type": "markdown",
   "metadata": {},
   "source": [
    "## Plots"
   ]
  },
  {
   "cell_type": "code",
   "execution_count": 17,
   "metadata": {},
   "outputs": [
    {
     "data": {
      "text/plain": [
       "Text(0.5, 1.0, 'loss with exponential decaying loss (initial lr = 2e-05, gamma = 0.99)')"
      ]
     },
     "execution_count": 17,
     "metadata": {},
     "output_type": "execute_result"
    },
    {
     "data": {
      "image/png": "[encoded data removed]",
      "text/plain": [
       "<Figure size 432x288 with 1 Axes>"
      ]
     },
     "metadata": {
      "needs_background": "light"
     },
     "output_type": "display_data"
    }
   ],
   "source": [
    "plt.plot(train_losses[0][2:])\n",
    "plt.plot(test_losses[0][2:])\n",
    "plt.title(f\"loss with exponential decaying loss (initial lr = {learning_rates[0]}, gamma = 0.99)\")"
   ]
  },
  {
   "cell_type": "code",
   "execution_count": null,
   "metadata": {},
   "outputs": [],
   "source": [
    "fig,axes = plt.subplots(1,3,figsize=(20,4))\n",
    "\n",
    "axes[0].plot(train_losses[-3][2:])\n",
    "axes[1].plot(train_losses[-2][40:])\n",
    "axes[2].plot(train_losses[-1][100:])\n",
    "\n",
    "axes[0].plot(test_losses[-3][2:])\n",
    "axes[1].plot(test_losses[-2][40:])\n",
    "axes[2].plot(test_losses[-1][100:])\n",
    "\n",
    "axes[0].set_title(f\"loss with learning rate = {learning_rates[0]}\")\n",
    "axes[1].set_title(f\"loss with learning rate = {learning_rates[1]}\")\n",
    "axes[2].set_title(f\"loss with learning rate = {learning_rates[2]}\")"
   ]
  },
  {
   "cell_type": "code",
   "execution_count": 18,
   "metadata": {},
   "outputs": [],
   "source": [
    "torch.save(models[0].state_dict(), f'explo/simple_dnn')"
   ]
  },
  {
   "cell_type": "code",
   "execution_count": null,
   "metadata": {},
   "outputs": [],
   "source": []
  }
 ],
 "metadata": {
  "interpreter": {
   "hash": "aee8b7b246df8f9039afb4144a1f6fd8d2ca17a180786b69acc140d282b71a49"
  },
  "kernelspec": {
   "display_name": "Pangeo (2019.09.12 - py3.7)",
   "language": "python",
   "name": "python3"
  },
  "language_info": {
   "codemirror_mode": {
    "name": "ipython",
    "version": 3
   },
   "file_extension": ".py",
   "mimetype": "text/x-python",
   "name": "python",
   "nbconvert_exporter": "python",
   "pygments_lexer": "ipython3",
   "version": "3.10.4"
  }
 },
 "nbformat": 4,
 "nbformat_minor": 4
}
