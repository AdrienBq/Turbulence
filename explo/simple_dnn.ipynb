{
 "cells": [
  {
   "cell_type": "code",
   "execution_count": 1,
   "metadata": {},
   "outputs": [],
   "source": [
    "import pandas as pd\n",
    "import xarray as xr\n",
    "import numpy as np\n",
    "import matplotlib.pyplot as plt\n",
    "from tqdm import tqdm, trange\n",
    "import netCDF4 as nc\n",
    "\n",
    "import os\n",
    "import sys\n",
    "from pathlib import Path\n",
    "\n",
    "os.chdir(Path(sys.path[0]).parent)\n",
    "import modules.utils as utils\n",
    "\n",
    "import torch\n",
    "import torch.nn as nn\n",
    "import torch.nn.functional as F"
   ]
  },
  {
   "cell_type": "markdown",
   "metadata": {},
   "source": [
    "## Prepare the data"
   ]
  },
  {
   "cell_type": "code",
   "execution_count": 2,
   "metadata": {},
   "outputs": [],
   "source": [
    "L = 32\n",
    "Directory = f\"data/L_{L}\"\n",
    "\n",
    "variables=['u', 'v', 'w', 'theta', 's', 'tke', 'wtheta']\n",
    "nz=376\n",
    "\n",
    "len_samples = nz*len(variables)\n",
    "len_in = nz*(len(variables)-1)\n",
    "len_out = nz"
   ]
  },
  {
   "cell_type": "markdown",
   "metadata": {},
   "source": [
    "### Split train test ds"
   ]
  },
  {
   "cell_type": "code",
   "execution_count": 3,
   "metadata": {},
   "outputs": [],
   "source": [
    "times = [i for i in range(1,63)]\n",
    "perm = np.random.permutation(times)\n",
    "train_times = perm[:int(0.8*len(times))]\n",
    "test_times = perm[int(0.8*len(times)):]"
   ]
  },
  {
   "cell_type": "code",
   "execution_count": 4,
   "metadata": {},
   "outputs": [],
   "source": [
    "#init train ds\n",
    "path_data = Directory+f'/input_ds_for_simple_nn_T{train_times[0]}_L_{L}.nc'\n",
    "nc_init = nc.Dataset(path_data)\n",
    "train_ds = nc_init['sample'][:].filled()\n",
    "\n",
    "for t in train_times[1:]:\n",
    "    path_data = Directory+f'/input_ds_for_simple_nn_T{t}_L_{L}.nc'\n",
    "    nc_init = nc.Dataset(path_data)\n",
    "    time_ds = nc_init['sample'][:].filled()\n",
    "    train_ds = np.concatenate((train_ds, time_ds), axis=0)"
   ]
  },
  {
   "cell_type": "code",
   "execution_count": 5,
   "metadata": {},
   "outputs": [],
   "source": [
    "#init test ds\n",
    "path_data = Directory+f'/input_ds_for_simple_nn_T{test_times[0]}_L_{L}.nc'\n",
    "nc_init = nc.Dataset(path_data)\n",
    "test_ds = nc_init['sample'][:].filled()\n",
    "\n",
    "for t in test_times[1:]:\n",
    "    path_data = Directory+f'/input_ds_for_simple_nn_T{t}_L_{L}.nc'\n",
    "    nc_init = nc.Dataset(path_data)\n",
    "    time_ds = nc_init['sample'][:].filled()\n",
    "    test_ds = np.concatenate((test_ds, time_ds), axis=0)"
   ]
  },
  {
   "cell_type": "code",
   "execution_count": 6,
   "metadata": {},
   "outputs": [
    {
     "data": {
      "text/plain": [
       "(12544, 2256)"
      ]
     },
     "execution_count": 6,
     "metadata": {},
     "output_type": "execute_result"
    }
   ],
   "source": [
    "# split train and test ds in input-output datasets\n",
    "input_train, output_train, input_val, output_val = train_ds[:,:len_in], train_ds[:,len_in:], test_ds[:,:len_in], test_ds[:,len_in:]\n",
    "input_train.shape"
   ]
  },
  {
   "cell_type": "markdown",
   "metadata": {},
   "source": [
    "## Define the model"
   ]
  },
  {
   "cell_type": "code",
   "execution_count": 7,
   "metadata": {
    "tags": []
   },
   "outputs": [],
   "source": [
    "class DNN(nn.Module):\n",
    "    def __init__(self, batch_size, input_size, output_size, drop_prob1=0.3, drop_prob2=0.4, drop_prob3=0.5, hidden_size1=512, hidden_size2=256, hidden_size3=256):\n",
    "        super(DNN, self).__init__()\n",
    "        self.regression = nn.Sequential(nn.Linear(input_size, hidden_size1),\n",
    "                                        nn.ReLU(),\n",
    "                                        nn.Dropout(drop_prob1),\n",
    "                                        nn.Linear(hidden_size1, hidden_size2),\n",
    "                                        nn.ReLU(),\n",
    "                                        nn.Dropout(drop_prob2),\n",
    "                                        nn.Linear(hidden_size2, hidden_size3),\n",
    "                                        nn.ReLU(),\n",
    "                                        nn.Dropout(drop_prob3),\n",
    "                                        nn.Linear(hidden_size3, output_size)\n",
    "                                        )\n",
    "        self.drop_prob1 = drop_prob1\n",
    "        self.drop_prob2 = drop_prob2\n",
    "        self.drop_prob3 = drop_prob3\n",
    "        self.batch_size = batch_size\n",
    "        self.input_shape = input_size\n",
    "        self.output_shape = output_size\n",
    "        self.hidden_size1 = hidden_size1\n",
    "        self.hidden_size2 = hidden_size2\n",
    "        self.hidden_size3 = hidden_size3\n",
    "\n",
    "    \n",
    "    def forward(self, x):\n",
    "        return self.regression(x)"
   ]
  },
  {
   "cell_type": "code",
   "execution_count": 8,
   "metadata": {
    "tags": []
   },
   "outputs": [],
   "source": [
    "learning_rate = 0.001\n",
    "batch_size = 32\n",
    "nb_epochs = 20\n",
    "train_losses=[]\n",
    "test_losses=[]\n",
    "n_batches = input_train.shape[0]//batch_size"
   ]
  },
  {
   "cell_type": "code",
   "execution_count": 9,
   "metadata": {},
   "outputs": [],
   "source": [
    "model = DNN(batch_size=batch_size,input_size=len_in,output_size=len_out)\n",
    "optimizer = torch.optim.Adam(model.parameters(), lr=learning_rate)\n",
    "\n",
    "# train : convert numpy array to torch tensor\n",
    "input = torch.from_numpy(input_train).float()\n",
    "output = torch.from_numpy(output_train).float()\n",
    "\n",
    "# test : convert numpy array to torch tensor\n",
    "input_test = torch.from_numpy(input_val).float()\n",
    "output_test = torch.from_numpy(output_val).float()"
   ]
  },
  {
   "cell_type": "markdown",
   "metadata": {},
   "source": [
    "## Train and test the model"
   ]
  },
  {
   "cell_type": "code",
   "execution_count": 45,
   "metadata": {},
   "outputs": [
    {
     "name": "stderr",
     "output_type": "stream",
     "text": [
      "\n",
      "  0%|          | 0/20 [00:00<?, ?it/s]\u001b[A\n",
      "  5%|▌         | 1/20 [00:06<01:54,  6.03s/it]\u001b[A"
     ]
    },
    {
     "name": "stdout",
     "output_type": "stream",
     "text": [
      "Epoch [1/20], Loss: 21.390850\n"
     ]
    },
    {
     "name": "stderr",
     "output_type": "stream",
     "text": [
      "\n",
      " 10%|█         | 2/20 [00:15<02:05,  6.95s/it]\u001b[A\n",
      " 15%|█▌        | 3/20 [00:43<03:49, 13.48s/it]\u001b[A\n",
      " 20%|██        | 4/20 [01:07<04:24, 16.56s/it]\u001b[A\n",
      " 25%|██▌       | 5/20 [01:31<04:41, 18.79s/it]\u001b[A"
     ]
    },
    {
     "name": "stdout",
     "output_type": "stream",
     "text": [
      "Epoch [5/20], Loss: 0.263473\n"
     ]
    },
    {
     "name": "stderr",
     "output_type": "stream",
     "text": [
      "\n",
      " 30%|███       | 6/20 [01:55<04:45, 20.41s/it]\u001b[A\n",
      " 35%|███▌      | 7/20 [02:19<04:39, 21.47s/it]\u001b[A\n",
      " 40%|████      | 8/20 [02:44<04:28, 22.40s/it]\u001b[A\n",
      " 45%|████▌     | 9/20 [03:08<04:12, 22.95s/it]\u001b[A\n",
      " 50%|█████     | 10/20 [03:32<03:53, 23.30s/it]\u001b[A"
     ]
    },
    {
     "name": "stdout",
     "output_type": "stream",
     "text": [
      "Epoch [10/20], Loss: 0.261431\n"
     ]
    },
    {
     "name": "stderr",
     "output_type": "stream",
     "text": [
      "\n",
      " 55%|█████▌    | 11/20 [03:56<03:32, 23.58s/it]\u001b[A\n",
      " 60%|██████    | 12/20 [04:21<03:10, 23.80s/it]\u001b[A\n",
      " 65%|██████▌   | 13/20 [04:45<02:47, 23.92s/it]\u001b[A\n",
      " 70%|███████   | 14/20 [05:09<02:24, 24.06s/it]\u001b[A\n",
      " 75%|███████▌  | 15/20 [05:34<02:01, 24.33s/it]\u001b[A"
     ]
    },
    {
     "name": "stdout",
     "output_type": "stream",
     "text": [
      "Epoch [15/20], Loss: 0.266250\n"
     ]
    },
    {
     "name": "stderr",
     "output_type": "stream",
     "text": [
      "\n",
      " 80%|████████  | 16/20 [05:59<01:37, 24.43s/it]\u001b[A\n",
      " 85%|████████▌ | 17/20 [06:23<01:13, 24.44s/it]\u001b[A\n",
      " 90%|█████████ | 18/20 [06:48<00:49, 24.65s/it]\u001b[A\n",
      " 95%|█████████▌| 19/20 [07:13<00:24, 24.75s/it]\u001b[A\n",
      "100%|██████████| 20/20 [07:38<00:00, 24.73s/it]\u001b[A\n",
      "                                               \u001b[A"
     ]
    },
    {
     "name": "stdout",
     "output_type": "stream",
     "text": [
      "Epoch [20/20], Loss: 0.262299\n"
     ]
    }
   ],
   "source": [
    "# train the model\n",
    "#model.train()\n",
    "\n",
    "for epoch in trange(nb_epochs, leave=False):\n",
    "    model.train()\n",
    "    tot_losses=0\n",
    "    indexes_arr = np.random.permutation(input_train.shape[0]).reshape(-1, batch_size)\n",
    "    for i_batch in indexes_arr:\n",
    "        input_batch = input[i_batch,:]\n",
    "        output_batch = output[i_batch,:]\n",
    "        optimizer.zero_grad()\n",
    "        # forward pass\n",
    "        output_pred = model(input_batch)\n",
    "        # compute loss\n",
    "        loss = F.mse_loss(output_pred, output_batch, reduction='sum')\n",
    "        tot_losses += loss.item()\n",
    "        # backward pass\n",
    "        loss.backward()\n",
    "        optimizer.step()\n",
    "    train_losses.append(tot_losses/n_batches)\n",
    "    \n",
    "    model.eval()\n",
    "    # prediction\n",
    "    output_pred = model(input_test)\n",
    "    # compute loss\n",
    "    test_loss = F.mse_loss(output_pred, output_test, reduction='sum') / (input_test.shape[0]//batch_size)\n",
    "    test_losses.append(test_loss)\n",
    "    \n",
    "    if (epoch+1)%5==0 or epoch==0:\n",
    "        print('Epoch [{}/{}], Loss: {:.6f}'.format(epoch+1, nb_epochs, tot_losses/n_batches))"
   ]
  },
  {
   "cell_type": "code",
   "execution_count": 50,
   "metadata": {},
   "outputs": [
    {
     "data": {
      "text/plain": [
       "[<matplotlib.lines.Line2D at 0x2aad8b7d9c88>]"
      ]
     },
     "execution_count": 50,
     "metadata": {},
     "output_type": "execute_result"
    },
    {
     "data": {
      "image/png": "[encoded data removed]",
      "text/plain": [
       "<Figure size 432x288 with 1 Axes>"
      ]
     },
     "metadata": {
      "needs_background": "light"
     },
     "output_type": "display_data"
    }
   ],
   "source": [
    "plt.plot(train_losses[2:])"
   ]
  },
  {
   "cell_type": "code",
   "execution_count": 51,
   "metadata": {},
   "outputs": [
    {
     "data": {
      "text/plain": [
       "[<matplotlib.lines.Line2D at 0x2aad8a9c0278>]"
      ]
     },
     "execution_count": 51,
     "metadata": {},
     "output_type": "execute_result"
    },
    {
     "data": {
      "image/png": "[encoded data removed]",
      "text/plain": [
       "<Figure size 432x288 with 1 Axes>"
      ]
     },
     "metadata": {
      "needs_background": "light"
     },
     "output_type": "display_data"
    }
   ],
   "source": [
    "plt.plot(test_losses)"
   ]
  },
  {
   "cell_type": "code",
   "execution_count": 13,
   "metadata": {},
   "outputs": [
    {
     "name": "stdout",
     "output_type": "stream",
     "text": [
      "Test loss: 0.321151\n"
     ]
    }
   ],
   "source": [
    "# test the model\n",
    "\n",
    "# convert numpy array to torch tensor\n",
    "input_test = torch.from_numpy(input_val).float()\n",
    "output_test = torch.from_numpy(output_val).float()\n",
    "\n",
    "model.eval()\n",
    "# prediction\n",
    "output_pred = model(input_test)\n",
    "# compute loss\n",
    "loss = F.mse_loss(output_pred, output_test, reduction='sum') / (input_test.shape[0]//batch_size)\n",
    "\n",
    "print('Test loss: {:.6f}'.format(loss))"
   ]
  },
  {
   "cell_type": "code",
   "execution_count": 52,
   "metadata": {},
   "outputs": [],
   "source": [
    "torch.save(model.state_dict(), 'explo/simple_dnn')"
   ]
  },
  {
   "cell_type": "markdown",
   "metadata": {},
   "source": [
    "## Use previous models"
   ]
  },
  {
   "cell_type": "code",
   "execution_count": 10,
   "metadata": {},
   "outputs": [
    {
     "data": {
      "text/plain": [
       "DNN(\n",
       "  (regression): Sequential(\n",
       "    (0): Linear(in_features=2256, out_features=512, bias=True)\n",
       "    (1): ReLU()\n",
       "    (2): Dropout(p=0.3, inplace=False)\n",
       "    (3): Linear(in_features=512, out_features=256, bias=True)\n",
       "    (4): ReLU()\n",
       "    (5): Dropout(p=0.4, inplace=False)\n",
       "    (6): Linear(in_features=256, out_features=256, bias=True)\n",
       "    (7): ReLU()\n",
       "    (8): Dropout(p=0.5, inplace=False)\n",
       "    (9): Linear(in_features=256, out_features=376, bias=True)\n",
       "  )\n",
       ")"
      ]
     },
     "execution_count": 10,
     "metadata": {},
     "output_type": "execute_result"
    }
   ],
   "source": [
    "model_load = DNN(batch_size=batch_size,input_size=len_in,output_size=len_out)\n",
    "model_load.load_state_dict(torch.load('explo/models/simple_dnn7prime'))\n",
    "model_load.eval()"
   ]
  },
  {
   "cell_type": "code",
   "execution_count": 11,
   "metadata": {},
   "outputs": [
    {
     "name": "stdout",
     "output_type": "stream",
     "text": [
      "Test loss: 0.301028\n"
     ]
    }
   ],
   "source": [
    "# convert numpy array to torch tensor\n",
    "input_test = torch.from_numpy(input_val).float()\n",
    "output_test = torch.from_numpy(output_val).float()\n",
    "tot_losses=0\n",
    "\n",
    "model_load.eval()\n",
    "# prediction\n",
    "output_pred = model_load(input_test)\n",
    "# compute loss\n",
    "loss = F.mse_loss(output_pred, output_test, reduction='sum') / (input_test.shape[0]//batch_size)\n",
    "\n",
    "print('Test loss: {:.6f}'.format(loss))"
   ]
  },
  {
   "cell_type": "code",
   "execution_count": 12,
   "metadata": {},
   "outputs": [
    {
     "data": {
      "text/plain": [
       "torch.Size([3328, 376])"
      ]
     },
     "execution_count": 12,
     "metadata": {},
     "output_type": "execute_result"
    }
   ],
   "source": [
    "output_test.shape"
   ]
  },
  {
   "cell_type": "markdown",
   "metadata": {},
   "source": [
    "Plot the coarse grained heat flux (both predicted and real) from the reconstructed output and objective of the DNN."
   ]
  },
  {
   "cell_type": "code",
   "execution_count": 13,
   "metadata": {},
   "outputs": [
    {
     "name": "stdout",
     "output_type": "stream",
     "text": [
      "t = 12\n"
     ]
    },
    {
     "data": {
      "image/png": "[encoded data removed]",
      "text/plain": [
       "<Figure size 792x360 with 4 Axes>"
      ]
     },
     "metadata": {
      "needs_background": "light"
     },
     "output_type": "display_data"
    },
    {
     "name": "stdout",
     "output_type": "stream",
     "text": [
      "0.0068362965 0.0036564127 0.0061089406\n"
     ]
    }
   ],
   "source": [
    "t = 0\n",
    "z=100\n",
    "largeur = int(512/L)\n",
    "pred_ds = output_pred[t*largeur**2:(t+1)*largeur**2,:].cpu().detach().numpy()\n",
    "true_ds = output_test[t*largeur**2:(t+1)*largeur**2,:].cpu().detach().numpy()\n",
    "\n",
    "#print(pred_ds)\n",
    "print('t =',test_times[t])\n",
    "utils.plot_output(pred_ds,true_ds,L,z,color='RdBu_r')\n",
    "\n",
    "print(pred_ds[:,z].max(),pred_ds[:,z].min(), true_ds[:,z].mean())"
   ]
  },
  {
   "cell_type": "markdown",
   "metadata": {},
   "source": [
    "Plot the coarse grained heat flux from Adrien's written nc files."
   ]
  },
  {
   "cell_type": "code",
   "execution_count": 14,
   "metadata": {},
   "outputs": [
    {
     "name": "stdout",
     "output_type": "stream",
     "text": [
      "temperature mean,min,max: -4.382540337577456e-14 -0.027927474975630244 0.04308522033687093\n",
      "wtheta mean,min,max : 0.0061089406482774606 -0.0017906517220525023 0.0385702809333624\n"
     ]
    },
    {
     "data": {
      "image/png": "[encoded data removed]",
      "text/plain": [
       "<Figure size 432x288 with 2 Axes>"
      ]
     },
     "metadata": {
      "needs_background": "light"
     },
     "output_type": "display_data"
    }
   ],
   "source": [
    "path_data = Directory+f'/input_ds_for_simple_nn_T{test_times[t]}_L_{L}.nc'\n",
    "nc_init = nc.Dataset(path_data)\n",
    "test_ds = nc_init['sample'][:].filled()[:,-len_out+z].reshape(16,16)\n",
    "theta_ds = nc_init['sample'][:].filled()[:,3*len_out+z].reshape(16,16)\n",
    "print('temperature mean,min,max:', theta_ds.mean(),theta_ds.min(),theta_ds.max())\n",
    "print('wtheta mean,min,max :',test_ds.mean(),test_ds.min(),test_ds.max())\n",
    "im = plt.imshow(test_ds , cmap = 'RdBu_r' , interpolation = 'nearest' )\n",
    "plt.colorbar(im, orientation='vertical', fraction=0.046, pad=0.04)\n",
    "plt.title(f\"2-D Heat Map of w*theta at t={test_times[t]} and z={z}\")\n",
    "plt.show()"
   ]
  },
  {
   "cell_type": "markdown",
   "metadata": {},
   "source": [
    "## Check coherence"
   ]
  },
  {
   "cell_type": "markdown",
   "metadata": {},
   "source": [
    "Plot the coarse grained heat flux directly from Sara's high res simulation"
   ]
  },
  {
   "cell_type": "markdown",
   "metadata": {},
   "source": [
    "Use plot_alt_val cells 2 and 3."
   ]
  },
  {
   "cell_type": "code",
   "execution_count": 15,
   "metadata": {},
   "outputs": [
    {
     "ename": "FileNotFoundError",
     "evalue": "[Errno 2] No such file or directory: b'/glade/scratch/sshamekh/LES_512_ug16wtspt01_data/wxy50_T12.nc'",
     "output_type": "error",
     "traceback": [
      "\u001b[0;31m---------------------------------------------------------------------------\u001b[0m",
      "\u001b[0;31mFileNotFoundError\u001b[0m                         Traceback (most recent call last)",
      "\u001b[1;32m/Users/adrien/Documents/Cours_Polytechnique_3A/stage/Turbulence/explo/simple_dnn.ipynb Cell 30'\u001b[0m in \u001b[0;36m<cell line: 1>\u001b[0;34m()\u001b[0m\n\u001b[0;32m----> <a href='vscode-notebook-cell:/Users/adrien/Documents/Cours_Polytechnique_3A/stage/Turbulence/explo/simple_dnn.ipynb#ch0000029?line=0'>1</a>\u001b[0m nc_init \u001b[39m=\u001b[39m nc\u001b[39m.\u001b[39;49mDataset(\u001b[39mf\u001b[39;49m\u001b[39m\"\u001b[39;49m\u001b[39m/glade/scratch/sshamekh/LES_512_ug16wtspt01_data/wxy\u001b[39;49m\u001b[39m{\u001b[39;49;00mz\u001b[39m/\u001b[39;49m\u001b[39m/\u001b[39;49m\u001b[39m2\u001b[39;49m\u001b[39m}\u001b[39;49;00m\u001b[39m_T\u001b[39;49m\u001b[39m{\u001b[39;49;00mtest_times[t]\u001b[39m}\u001b[39;49;00m\u001b[39m.nc\u001b[39;49m\u001b[39m\"\u001b[39;49m)\n\u001b[1;32m      <a href='vscode-notebook-cell:/Users/adrien/Documents/Cours_Polytechnique_3A/stage/Turbulence/explo/simple_dnn.ipynb#ch0000029?line=1'>2</a>\u001b[0m \u001b[39m#print(nc_init[f'wxy{z//2}'][:].filled()[:,:,:,:].shape)\u001b[39;00m\n\u001b[1;32m      <a href='vscode-notebook-cell:/Users/adrien/Documents/Cours_Polytechnique_3A/stage/Turbulence/explo/simple_dnn.ipynb#ch0000029?line=2'>3</a>\u001b[0m w_arr \u001b[39m=\u001b[39m nc_init[\u001b[39mf\u001b[39m\u001b[39m'\u001b[39m\u001b[39mwxy\u001b[39m\u001b[39m{\u001b[39;00mz\u001b[39m/\u001b[39m\u001b[39m/\u001b[39m\u001b[39m2\u001b[39m\u001b[39m}\u001b[39;00m\u001b[39m'\u001b[39m][:]\u001b[39m.\u001b[39mfilled()[\u001b[39m0\u001b[39m,z\u001b[39m%\u001b[39m\u001b[39m2\u001b[39m,:,:]\n",
      "File \u001b[0;32msrc/netCDF4/_netCDF4.pyx:2307\u001b[0m, in \u001b[0;36mnetCDF4._netCDF4.Dataset.__init__\u001b[0;34m()\u001b[0m\n",
      "File \u001b[0;32msrc/netCDF4/_netCDF4.pyx:1925\u001b[0m, in \u001b[0;36mnetCDF4._netCDF4._ensure_nc_success\u001b[0;34m()\u001b[0m\n",
      "\u001b[0;31mFileNotFoundError\u001b[0m: [Errno 2] No such file or directory: b'/glade/scratch/sshamekh/LES_512_ug16wtspt01_data/wxy50_T12.nc'"
     ]
    }
   ],
   "source": [
    "\n",
    "nc_init = nc.Dataset(f\"/glade/scratch/sshamekh/LES_512_ug16wtspt01_data/wxy{z//2}_T{test_times[t]}.nc\")\n",
    "#print(nc_init[f'wxy{z//2}'][:].filled()[:,:,:,:].shape)\n",
    "w_arr = nc_init[f'wxy{z//2}'][:].filled()[0,z%2,:,:]\n",
    "print('w fluctuations mean, min, max :', w_arr.mean(),w_arr.min(),w_arr.max())\n",
    "\n",
    "\n",
    "nc_init = nc.Dataset(f\"/glade/scratch/sshamekh/LES_512_ug16wtspt01_data/thetaxy{z//2}_T{test_times[t]}.nc\")\n",
    "theta_arr = nc_init[f'thetaxy{z//2}'][:].filled()[0,z%2,:,:]\n",
    "print('theta mean, min, max :', theta_arr.mean(),theta_arr.min(),theta_arr.max())\n",
    "theta_arr -= theta_arr.mean()\n",
    "print('theta fluctuations mean, min, max :', theta_arr.mean(),theta_arr.min(),theta_arr.max())\n",
    "\n",
    "wtheta = w_arr*theta_arr\n",
    "print('wtheta fluctuations mean, min, max :',wtheta.mean(),wtheta.min(),wtheta.max())\n",
    "\n",
    "fig,axes = plt.subplots(1,2,figsize=(13,5))\n",
    "\n",
    "im0 = axes[0].imshow(wtheta , cmap = 'RdBu_r' , interpolation = 'nearest' )\n",
    "fig.colorbar(im0, ax=axes[0], orientation='vertical', fraction=0.046, pad=0.04)\n",
    "axes[0].set_title(f\"2-D Heat Map of w*theta at t={test_times[t]} and z={z}\")\n",
    "\n",
    "coarse_wtheta = utils.coarse_array(wtheta.reshape(1,1,512,512),L).reshape(16,16)\n",
    "im1 = axes[1].imshow(coarse_wtheta , cmap = 'RdBu_r' , interpolation = 'nearest')\n",
    "fig.colorbar(im1, ax=axes[1], orientation='vertical', fraction=0.046, pad=0.04)\n",
    "axes[1].set_title(f\"2-D coarse grained Heat Map of w*theta at t={test_times[t]} and z={z}\")\n",
    "\n",
    "plt.show()"
   ]
  },
  {
   "cell_type": "markdown",
   "metadata": {},
   "source": [
    "## Define baseline model"
   ]
  },
  {
   "cell_type": "markdown",
   "metadata": {},
   "source": [
    "Baseline model : $\\overline{w*\\theta} \\simeq \\overline{w}*\\overline{\\theta}$"
   ]
  },
  {
   "cell_type": "markdown",
   "metadata": {},
   "source": [
    "Comparison of objective heat flux, baseline heat flux and element wise difference of them."
   ]
  },
  {
   "cell_type": "code",
   "execution_count": 16,
   "metadata": {},
   "outputs": [
    {
     "data": {
      "text/plain": [
       "(256,)"
      ]
     },
     "execution_count": 16,
     "metadata": {},
     "output_type": "execute_result"
    }
   ],
   "source": [
    "path_data = Directory+f'/input_ds_for_simple_nn_T{test_times[t]}_L_{L}.nc'\n",
    "nc_init = nc.Dataset(path_data)\n",
    "time_ds = nc_init['sample'][:].filled()\n",
    "time_ds[:,len_in:][:,z].shape"
   ]
  },
  {
   "cell_type": "code",
   "execution_count": 23,
   "metadata": {
    "tags": []
   },
   "outputs": [
    {
     "name": "stdout",
     "output_type": "stream",
     "text": [
      "12\n",
      "Mean,min,max temperature fluctuation : -4.382540337577456e-14 -0.027927474975630244 0.04308522033687093\n",
      "Mean,min,max true heat flux : 0.0061089406482774606 -0.0017906517220525023 0.0385702809333624\n",
      "Mean,min,max baseline heat flux : 0.003207686179465062 -0.0055713141087298 0.031130684418413466\n"
     ]
    },
    {
     "data": {
      "image/png": "[encoded data removed]",
      "text/plain": [
       "<Figure size 1296x360 with 6 Axes>"
      ]
     },
     "metadata": {
      "needs_background": "light"
     },
     "output_type": "display_data"
    }
   ],
   "source": [
    "from mpl_toolkits.axes_grid1 import make_axes_locatable\n",
    "\n",
    "t=0\n",
    "lz=376\n",
    "z=100     # equivalent to z=18 : first alt is 18\n",
    "print(test_times[t])\n",
    "path_data = Directory+f'/input_ds_for_simple_nn_T{test_times[t]}_L_32.nc'  #'data/L_32_new/input_ds_for_simple_nn_T10_L_32.nc'\n",
    "nc_init = nc.Dataset(path_data)\n",
    "true_heat_flux = nc_init[f'sample'][:].filled()[:,-len_out:][:,z].reshape(16,16)        # -len_out because : last len_out values are wtheta, z is wtheta at alt z\n",
    "\n",
    "w_arr = nc_init[f'sample'][:].filled()[:,2*len_out:][:,z].reshape(16,16)        # variables are [u,v,w,theta,s,tka,wtheta] so 2*len_out is w\n",
    "theta_arr = nc_init[f'sample'][:].filled()[:,3*len_out:][:,z].reshape(16,16)    # variables are [u,v,w,theta,s,tka,wtheta] so 3*len_out is theta\n",
    "baseline_heat_flux = w_arr*theta_arr\n",
    "\n",
    "print('Mean,min,max temperature fluctuation :',theta_arr.mean(),theta_arr.min(),theta_arr.max())\n",
    "print('Mean,min,max true heat flux :',true_heat_flux.mean(),true_heat_flux.min(),true_heat_flux.max())\n",
    "print('Mean,min,max baseline heat flux :',baseline_heat_flux.mean(),baseline_heat_flux.min(),baseline_heat_flux.max())\n",
    "\n",
    "fig,axes = plt.subplots(1,3,figsize=(18,5))\n",
    "\n",
    "im0 = axes[0].imshow(true_heat_flux , cmap = 'RdBu_r' , interpolation = 'nearest' )\n",
    "fig.colorbar(im0, ax=axes[0], orientation='vertical', fraction=0.046, pad=0.04)\n",
    "axes[0].set_title(f\"2-D Heat Map of true w*theta at t={test_times[t]} and z={z}\")\n",
    "\n",
    "im1 = axes[1].imshow(baseline_heat_flux , cmap = 'RdBu_r' , interpolation = 'nearest' )\n",
    "fig.colorbar(im1, ax=axes[1], orientation='vertical', fraction=0.046, pad=0.04)\n",
    "axes[1].set_title(f\"2-D Heat Map of baseline w*theta at t={test_times[t]} and z={z}\")\n",
    "\n",
    "im2 = axes[2].imshow(np.abs(true_heat_flux - baseline_heat_flux) , cmap = 'RdBu_r' , interpolation = 'nearest' )\n",
    "fig.colorbar(im2, ax=axes[2], orientation='vertical', fraction=0.046, pad=0.04)\n",
    "axes[2].set_title(f\"Diff between objective and baseline w*theta at t={test_times[t]} and z={z}\")\n",
    "\n",
    "fig.tight_layout()\n",
    "plt.show()"
   ]
  },
  {
   "cell_type": "markdown",
   "metadata": {},
   "source": [
    "Problem : with $\\theta$ and not $\\theta'$, the baseline seems to be way closer to the objective than NN.\n",
    "\n",
    "Normal vu que on utilise $\\theta$ et non pas $\\theta'$ donc on a $\\theta \\simeq 293K$ en permanence. On peut donc le considérer comme constant et $\\overline{\\theta} = \\theta$, d'où $$\\overline{w*\\theta} = \\overline{w*\\overline{\\theta}} =\\overline{w}*\\overline{\\theta}$$\n",
    "\n",
    "-> il faut considérer $\\theta'$"
   ]
  },
  {
   "cell_type": "markdown",
   "metadata": {},
   "source": [
    "Si on considère $\\theta'$, on remarque que le baseline model approxime bien le flux de chaleur sur les zones où il n'y a quasi pas de flux (grandes zones) et mal sur les zones de fort flux (petites zones qui sont donc moyennées avec ce qui les entoure).\n",
    "\n",
    "-> On peut faire mieux."
   ]
  },
  {
   "cell_type": "markdown",
   "metadata": {},
   "source": [
    "## Compare model and baseline"
   ]
  },
  {
   "cell_type": "markdown",
   "metadata": {},
   "source": [
    "baseline loss"
   ]
  },
  {
   "cell_type": "code",
   "execution_count": 16,
   "metadata": {},
   "outputs": [
    {
     "data": {
      "text/plain": [
       "1.4567439904702952e-07"
      ]
     },
     "execution_count": 16,
     "metadata": {},
     "output_type": "execute_result"
    }
   ],
   "source": [
    "loss = 0\n",
    "for i in range(16):\n",
    "    for j in range(16):\n",
    "        loss += (true_heat_flux[i,j] - baseline_heat_flux[i,j])**2\n",
    "loss"
   ]
  },
  {
   "cell_type": "code",
   "execution_count": null,
   "metadata": {},
   "outputs": [],
   "source": []
  }
 ],
 "metadata": {
  "interpreter": {
   "hash": "aee8b7b246df8f9039afb4144a1f6fd8d2ca17a180786b69acc140d282b71a49"
  },
  "kernelspec": {
   "display_name": "Pangeo (2019.09.12 - py3.7)",
   "language": "python",
   "name": "python3"
  },
  "language_info": {
   "codemirror_mode": {
    "name": "ipython",
    "version": 3
   },
   "file_extension": ".py",
   "mimetype": "text/x-python",
   "name": "python",
   "nbconvert_exporter": "python",
   "pygments_lexer": "ipython3",
   "version": "3.10.4"
  }
 },
 "nbformat": 4,
 "nbformat_minor": 4
}
