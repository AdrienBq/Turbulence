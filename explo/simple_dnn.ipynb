{
 "cells": [
  {
   "cell_type": "code",
   "execution_count": 1,
   "metadata": {},
   "outputs": [],
   "source": [
    "import pandas as pd\n",
    "import xarray as xr\n",
    "import numpy as np\n",
    "import matplotlib.pyplot as plt\n",
    "from tqdm import tqdm, trange\n",
    "import netCDF4 as nc\n",
    "\n",
    "import os\n",
    "import sys\n",
    "from pathlib import Path\n",
    "\n",
    "os.chdir(Path(sys.path[0]).parent)\n",
    "import modules.utils as utils\n",
    "\n",
    "import torch\n",
    "import torch.nn as nn\n",
    "import torch.nn.functional as F"
   ]
  },
  {
   "cell_type": "markdown",
   "metadata": {},
   "source": [
    "## Prepare the data"
   ]
  },
  {
   "cell_type": "code",
   "execution_count": 2,
   "metadata": {},
   "outputs": [],
   "source": [
    "L = 32\n",
    "Directory = f\"data/L_{L}_new\"\n",
    "\n",
    "variables=['u', 'v', 'w', 'theta', 's', 'tke', 'wtheta']\n",
    "nz=376\n",
    "\n",
    "len_samples = nz*len(variables)\n",
    "len_in = nz*(len(variables)-1)\n",
    "len_out = nz"
   ]
  },
  {
   "cell_type": "markdown",
   "metadata": {},
   "source": [
    "### Split train test ds"
   ]
  },
  {
   "cell_type": "code",
   "execution_count": 3,
   "metadata": {},
   "outputs": [],
   "source": [
    "times = [i for i in range(1,63)]\n",
    "perm = np.random.permutation(times)\n",
    "train_times = perm[:int(0.8*len(times))]\n",
    "test_times = perm[int(0.8*len(times)):]"
   ]
  },
  {
   "cell_type": "code",
   "execution_count": 4,
   "metadata": {},
   "outputs": [],
   "source": [
    "#init train ds\n",
    "path_data = Directory+f'/input_ds_for_simple_nn_T{train_times[0]}_L_{L}.nc'\n",
    "nc_init = nc.Dataset(path_data)\n",
    "train_ds = nc_init['sample'][:].filled()\n",
    "\n",
    "for t in train_times[1:]:\n",
    "    path_data = Directory+f'/input_ds_for_simple_nn_T{t}_L_{L}.nc'\n",
    "    nc_init = nc.Dataset(path_data)\n",
    "    time_ds = nc_init['sample'][:].filled()\n",
    "    train_ds = np.concatenate((train_ds, time_ds), axis=0)"
   ]
  },
  {
   "cell_type": "code",
   "execution_count": 5,
   "metadata": {},
   "outputs": [],
   "source": [
    "#init test ds\n",
    "path_data = Directory+f'/input_ds_for_simple_nn_T{test_times[0]}_L_{L}.nc'\n",
    "nc_init = nc.Dataset(path_data)\n",
    "test_ds = nc_init['sample'][:].filled()\n",
    "\n",
    "for t in test_times[1:]:\n",
    "    path_data = Directory+f'/input_ds_for_simple_nn_T{t}_L_{L}.nc'\n",
    "    nc_init = nc.Dataset(path_data)\n",
    "    time_ds = nc_init['sample'][:].filled()\n",
    "    test_ds = np.concatenate((test_ds, time_ds), axis=0)"
   ]
  },
  {
   "cell_type": "code",
   "execution_count": 6,
   "metadata": {},
   "outputs": [
    {
     "data": {
      "text/plain": [
       "(12544, 2256)"
      ]
     },
     "execution_count": 6,
     "metadata": {},
     "output_type": "execute_result"
    }
   ],
   "source": [
    "# split train and test ds in input-output datasets\n",
    "input_train, output_train, input_val, output_val = train_ds[:,:len_in], train_ds[:,len_in:], test_ds[:,:len_in], test_ds[:,len_in:]\n",
    "input_train.shape"
   ]
  },
  {
   "cell_type": "markdown",
   "metadata": {},
   "source": [
    "## Define the model"
   ]
  },
  {
   "cell_type": "code",
   "execution_count": 7,
   "metadata": {},
   "outputs": [],
   "source": [
    "class DNN(nn.Module):\n",
    "    def __init__(self, batch_size, input_size, output_size, drop_prob1=0.1, drop_prob2=0.2, drop_prob3=0.3, hidden_size1=512, hidden_size2=256, hidden_size3=256):\n",
    "        super(DNN, self).__init__()\n",
    "        self.regression = nn.Sequential(nn.Linear(input_size, hidden_size1),\n",
    "                                        nn.ReLU(),\n",
    "                                        nn.Dropout(drop_prob1),\n",
    "                                        nn.Linear(hidden_size1, hidden_size2),\n",
    "                                        nn.ReLU(),\n",
    "                                        nn.Dropout(drop_prob2),\n",
    "                                        nn.Linear(hidden_size2, hidden_size3),\n",
    "                                        nn.ReLU(),\n",
    "                                        nn.Dropout(drop_prob3),\n",
    "                                        nn.Linear(hidden_size3, output_size)\n",
    "                                        )\n",
    "        self.drop_prob1 = drop_prob1\n",
    "        self.drop_prob2 = drop_prob2\n",
    "        self.drop_prob3 = drop_prob3\n",
    "        self.batch_size = batch_size\n",
    "        self.input_shape = input_size\n",
    "        self.output_shape = output_size\n",
    "        self.hidden_size1 = hidden_size1\n",
    "        self.hidden_size2 = hidden_size2\n",
    "        self.hidden_size3 = hidden_size3\n",
    "\n",
    "    \n",
    "    def forward(self, x):\n",
    "        return self.regression(x)"
   ]
  },
  {
   "cell_type": "code",
   "execution_count": 13,
   "metadata": {},
   "outputs": [],
   "source": [
    "learning_rate = 0.001\n",
    "batch_size = 32\n",
    "nb_epochs = 50\n",
    "train_losses=[]\n",
    "test_losses=[]\n",
    "n_batches = input_train.shape[0]//batch_size"
   ]
  },
  {
   "cell_type": "code",
   "execution_count": 14,
   "metadata": {},
   "outputs": [],
   "source": [
    "model = DNN(batch_size=batch_size,input_size=len_in,output_size=len_out)\n",
    "optimizer = torch.optim.Adam(model.parameters(), lr=learning_rate)\n",
    "\n",
    "# train : convert numpy array to torch tensor\n",
    "input = torch.from_numpy(input_train).float()\n",
    "output = torch.from_numpy(output_train).float()\n",
    "\n",
    "# test : convert numpy array to torch tensor\n",
    "input_test = torch.from_numpy(input_val).float()\n",
    "output_test = torch.from_numpy(output_val).float()"
   ]
  },
  {
   "cell_type": "markdown",
   "metadata": {},
   "source": [
    "## Train and test the model"
   ]
  },
  {
   "cell_type": "code",
   "execution_count": 15,
   "metadata": {},
   "outputs": [
    {
     "name": "stderr",
     "output_type": "stream",
     "text": [
      "  2%|▏         | 1/50 [00:05<04:10,  5.11s/it]"
     ]
    },
    {
     "name": "stdout",
     "output_type": "stream",
     "text": [
      "Epoch [1/50], Loss: 157.241034\n"
     ]
    },
    {
     "name": "stderr",
     "output_type": "stream",
     "text": [
      " 10%|█         | 5/50 [01:09<10:49, 14.43s/it]"
     ]
    },
    {
     "name": "stdout",
     "output_type": "stream",
     "text": [
      "Epoch [5/50], Loss: 64.610463\n"
     ]
    },
    {
     "name": "stderr",
     "output_type": "stream",
     "text": [
      " 20%|██        | 10/50 [02:43<12:09, 18.24s/it]"
     ]
    },
    {
     "name": "stdout",
     "output_type": "stream",
     "text": [
      "Epoch [10/50], Loss: 47.224255\n"
     ]
    },
    {
     "name": "stderr",
     "output_type": "stream",
     "text": [
      " 30%|███       | 15/50 [04:21<11:17, 19.37s/it]"
     ]
    },
    {
     "name": "stdout",
     "output_type": "stream",
     "text": [
      "Epoch [15/50], Loss: 40.696249\n"
     ]
    },
    {
     "name": "stderr",
     "output_type": "stream",
     "text": [
      " 40%|████      | 20/50 [06:00<09:51, 19.73s/it]"
     ]
    },
    {
     "name": "stdout",
     "output_type": "stream",
     "text": [
      "Epoch [20/50], Loss: 40.616280\n"
     ]
    },
    {
     "name": "stderr",
     "output_type": "stream",
     "text": [
      " 50%|█████     | 25/50 [07:40<08:18, 19.93s/it]"
     ]
    },
    {
     "name": "stdout",
     "output_type": "stream",
     "text": [
      "Epoch [25/50], Loss: 36.787471\n"
     ]
    },
    {
     "name": "stderr",
     "output_type": "stream",
     "text": [
      " 60%|██████    | 30/50 [09:20<06:42, 20.10s/it]"
     ]
    },
    {
     "name": "stdout",
     "output_type": "stream",
     "text": [
      "Epoch [30/50], Loss: 39.979255\n"
     ]
    },
    {
     "name": "stderr",
     "output_type": "stream",
     "text": [
      " 80%|████████  | 40/50 [12:40<03:20, 20.02s/it]"
     ]
    },
    {
     "name": "stdout",
     "output_type": "stream",
     "text": [
      "Epoch [40/50], Loss: 45.085505\n"
     ]
    },
    {
     "name": "stderr",
     "output_type": "stream",
     "text": [
      " 90%|█████████ | 45/50 [14:22<01:42, 20.49s/it]"
     ]
    },
    {
     "name": "stdout",
     "output_type": "stream",
     "text": [
      "Epoch [45/50], Loss: 45.736124\n"
     ]
    },
    {
     "name": "stderr",
     "output_type": "stream",
     "text": [
      "                                               "
     ]
    },
    {
     "name": "stdout",
     "output_type": "stream",
     "text": [
      "Epoch [50/50], Loss: 52.301600\n"
     ]
    },
    {
     "name": "stderr",
     "output_type": "stream",
     "text": [
      "\r"
     ]
    }
   ],
   "source": [
    "# train the model\n",
    "#model.train()\n",
    "\n",
    "for epoch in trange(nb_epochs, leave=False):\n",
    "    model.train()\n",
    "    tot_losses=0\n",
    "    indexes_arr = np.random.permutation(input_train.shape[0]).reshape(-1, batch_size)\n",
    "    for i_batch in indexes_arr:\n",
    "        input_batch = input[i_batch,:]\n",
    "        output_batch = output[i_batch,:]\n",
    "        optimizer.zero_grad()\n",
    "        # forward pass\n",
    "        output_pred = model(input_batch)\n",
    "        # compute loss\n",
    "        loss = F.mse_loss(output_pred, output_batch, reduction='sum')\n",
    "        tot_losses += loss.item()\n",
    "        # backward pass\n",
    "        loss.backward()\n",
    "        optimizer.step()\n",
    "    train_losses.append(tot_losses/n_batches)\n",
    "    \n",
    "    model.eval()\n",
    "    # prediction\n",
    "    output_pred = model(input_test)\n",
    "    # compute loss\n",
    "    test_loss = F.mse_loss(output_pred, output_test, reduction='sum') / (input_test.shape[0]//batch_size)\n",
    "    test_losses.append(test_loss)\n",
    "    \n",
    "    if (epoch+1)%5==0 or epoch==0:\n",
    "        print('Epoch [{}/{}], Loss: {:.6f}'.format(epoch+1, nb_epochs, tot_losses/n_batches))"
   ]
  },
  {
   "cell_type": "code",
   "execution_count": 17,
   "metadata": {},
   "outputs": [
    {
     "data": {
      "text/plain": [
       "[<matplotlib.lines.Line2D at 0x2ac55e1162b0>]"
      ]
     },
     "execution_count": 17,
     "metadata": {},
     "output_type": "execute_result"
    },
    {
     "data": {
      "image/png": "[encoded data removed]",
      "text/plain": [
       "<Figure size 432x288 with 1 Axes>"
      ]
     },
     "metadata": {
      "needs_background": "light"
     },
     "output_type": "display_data"
    }
   ],
   "source": [
    "plt.plot(train_losses)"
   ]
  },
  {
   "cell_type": "code",
   "execution_count": 18,
   "metadata": {},
   "outputs": [
    {
     "data": {
      "text/plain": [
       "[<matplotlib.lines.Line2D at 0x2ac55e0ef208>]"
      ]
     },
     "execution_count": 18,
     "metadata": {},
     "output_type": "execute_result"
    },
    {
     "data": {
      "image/png": "[encoded data removed]",
      "text/plain": [
       "<Figure size 432x288 with 1 Axes>"
      ]
     },
     "metadata": {
      "needs_background": "light"
     },
     "output_type": "display_data"
    }
   ],
   "source": [
    "plt.plot(test_losses)"
   ]
  },
  {
   "cell_type": "code",
   "execution_count": 19,
   "metadata": {},
   "outputs": [
    {
     "name": "stdout",
     "output_type": "stream",
     "text": [
      "Test loss: 117.709137\n"
     ]
    }
   ],
   "source": [
    "# test the model\n",
    "\n",
    "# convert numpy array to torch tensor\n",
    "input_test = torch.from_numpy(input_val).float()\n",
    "output_test = torch.from_numpy(output_val).float()\n",
    "\n",
    "model.eval()\n",
    "# prediction\n",
    "output_pred = model(input_test)\n",
    "# compute loss\n",
    "loss = F.mse_loss(output_pred, output_test, reduction='sum') / (input_test.shape[0]//batch_size)\n",
    "\n",
    "print('Test loss: {:.6f}'.format(loss))"
   ]
  },
  {
   "cell_type": "code",
   "execution_count": 20,
   "metadata": {},
   "outputs": [],
   "source": [
    "torch.save(model.state_dict(), 'explo/simple_dnn')"
   ]
  },
  {
   "cell_type": "markdown",
   "metadata": {},
   "source": [
    "## Use previous models"
   ]
  },
  {
   "cell_type": "code",
   "execution_count": 21,
   "metadata": {},
   "outputs": [
    {
     "data": {
      "text/plain": [
       "DNN(\n",
       "  (regression): Sequential(\n",
       "    (0): Linear(in_features=2256, out_features=512, bias=True)\n",
       "    (1): ReLU()\n",
       "    (2): Dropout(p=0.1, inplace=False)\n",
       "    (3): Linear(in_features=512, out_features=256, bias=True)\n",
       "    (4): ReLU()\n",
       "    (5): Dropout(p=0.2, inplace=False)\n",
       "    (6): Linear(in_features=256, out_features=256, bias=True)\n",
       "    (7): ReLU()\n",
       "    (8): Dropout(p=0.3, inplace=False)\n",
       "    (9): Linear(in_features=256, out_features=376, bias=True)\n",
       "  )\n",
       ")"
      ]
     },
     "execution_count": 21,
     "metadata": {},
     "output_type": "execute_result"
    }
   ],
   "source": [
    "model_load = DNN(batch_size=batch_size,input_size=len_in,output_size=len_out)\n",
    "model_load.load_state_dict(torch.load('explo/models/simple_dnn5'))\n",
    "model_load.eval()"
   ]
  },
  {
   "cell_type": "code",
   "execution_count": 22,
   "metadata": {},
   "outputs": [
    {
     "name": "stdout",
     "output_type": "stream",
     "text": [
      "Test loss: 117.709137\n"
     ]
    }
   ],
   "source": [
    "# convert numpy array to torch tensor\n",
    "input_test = torch.from_numpy(input_val).float()\n",
    "output_test = torch.from_numpy(output_val).float()\n",
    "tot_losses=0\n",
    "\n",
    "model_load.eval()\n",
    "# prediction\n",
    "output_pred = model_load(input_test)\n",
    "# compute loss\n",
    "loss = F.mse_loss(output_pred, output_test, reduction='sum') / (input_test.shape[0]//batch_size)\n",
    "\n",
    "print('Test loss: {:.6f}'.format(loss))"
   ]
  },
  {
   "cell_type": "code",
   "execution_count": 23,
   "metadata": {},
   "outputs": [
    {
     "data": {
      "text/plain": [
       "torch.Size([3328, 376])"
      ]
     },
     "execution_count": 23,
     "metadata": {},
     "output_type": "execute_result"
    }
   ],
   "source": [
    "output_test.shape"
   ]
  },
  {
   "cell_type": "markdown",
   "metadata": {},
   "source": [
    "Plot the coarse grained heat flux (both predicted and real) from the reconstructed output and objective of the DNN."
   ]
  },
  {
   "cell_type": "code",
   "execution_count": 24,
   "metadata": {},
   "outputs": [
    {
     "name": "stdout",
     "output_type": "stream",
     "text": [
      "t = 33\n"
     ]
    },
    {
     "data": {
      "image/png": "[encoded data removed]",
      "text/plain": [
       "<Figure size 792x360 with 4 Axes>"
      ]
     },
     "metadata": {
      "needs_background": "light"
     },
     "output_type": "display_data"
    }
   ],
   "source": [
    "t = 0\n",
    "z=100\n",
    "largeur = int(512/L)\n",
    "pred_ds = output_pred[t*largeur**2:(t+1)*largeur**2,:].cpu().detach().numpy()\n",
    "true_ds = output_test[t*largeur**2:(t+1)*largeur**2,:].cpu().detach().numpy()\n",
    "\n",
    "print('t =',test_times[t])\n",
    "utils.plot_output(pred_ds,true_ds,L,z,color='RdBu_r')"
   ]
  },
  {
   "cell_type": "markdown",
   "metadata": {},
   "source": [
    "Plot the coarse grained heat flux from Adrien's written nc files."
   ]
  },
  {
   "cell_type": "code",
   "execution_count": 25,
   "metadata": {},
   "outputs": [
    {
     "data": {
      "image/png": "[encoded data removed]",
      "text/plain": [
       "<Figure size 432x288 with 2 Axes>"
      ]
     },
     "metadata": {
      "needs_background": "light"
     },
     "output_type": "display_data"
    }
   ],
   "source": [
    "path_data = f'data/L_{L}_new/input_ds_for_simple_nn_T{test_times[t]}_L_{L}.nc'\n",
    "nc_init = nc.Dataset(path_data)\n",
    "test_ds = nc_init['sample'][:].filled()[:,-(376-z)].reshape(16,16)\n",
    "im = plt.imshow(test_ds , cmap = 'RdBu_r' , interpolation = 'nearest' )\n",
    "plt.colorbar(im, orientation='vertical', fraction=0.046, pad=0.04)\n",
    "plt.title(f\"2-D Heat Map of w*theta at t={test_times[t]} and z={z}\")\n",
    "plt.show()"
   ]
  },
  {
   "cell_type": "markdown",
   "metadata": {},
   "source": [
    "## Check coherence"
   ]
  },
  {
   "cell_type": "markdown",
   "metadata": {},
   "source": [
    "Plot the coarse grained heat flux directly from Sara's high res simulation"
   ]
  },
  {
   "cell_type": "code",
   "execution_count": 29,
   "metadata": {},
   "outputs": [
    {
     "ename": "NameError",
     "evalue": "name 'test_times' is not defined",
     "output_type": "error",
     "traceback": [
      "\u001b[0;31m---------------------------------------------------------------------------\u001b[0m",
      "\u001b[0;31mNameError\u001b[0m                                 Traceback (most recent call last)",
      "\u001b[1;32m/Users/adrien/Documents/Cours_Polytechnique_3A/stage/Turbulence/explo/simple_dnn.ipynb Cell 29'\u001b[0m in \u001b[0;36m<cell line: 1>\u001b[0;34m()\u001b[0m\n\u001b[0;32m----> <a href='vscode-notebook-cell:/Users/adrien/Documents/Cours_Polytechnique_3A/stage/Turbulence/explo/simple_dnn.ipynb#ch0000027?line=0'>1</a>\u001b[0m nc_init \u001b[39m=\u001b[39m nc\u001b[39m.\u001b[39mDataset(\u001b[39mf\u001b[39m\u001b[39m\"\u001b[39m\u001b[39m/glade/scratch/sshamekh/LES_512_ug16wtspt01_data/wxy\u001b[39m\u001b[39m{\u001b[39;00mz\u001b[39m/\u001b[39m\u001b[39m/\u001b[39m\u001b[39m2\u001b[39m\u001b[39m}\u001b[39;00m\u001b[39m_T\u001b[39m\u001b[39m{\u001b[39;00mtest_times[t]\u001b[39m}\u001b[39;00m\u001b[39m.nc\u001b[39m\u001b[39m\"\u001b[39m)\n\u001b[1;32m      <a href='vscode-notebook-cell:/Users/adrien/Documents/Cours_Polytechnique_3A/stage/Turbulence/explo/simple_dnn.ipynb#ch0000027?line=1'>2</a>\u001b[0m w_arr \u001b[39m=\u001b[39m nc_init[\u001b[39mf\u001b[39m\u001b[39m'\u001b[39m\u001b[39mwxy\u001b[39m\u001b[39m{\u001b[39;00mz\u001b[39m/\u001b[39m\u001b[39m/\u001b[39m\u001b[39m2\u001b[39m\u001b[39m}\u001b[39;00m\u001b[39m'\u001b[39m][:]\u001b[39m.\u001b[39mfilled()[\u001b[39m0\u001b[39m,\u001b[39m1\u001b[39m,:,:]\n\u001b[1;32m      <a href='vscode-notebook-cell:/Users/adrien/Documents/Cours_Polytechnique_3A/stage/Turbulence/explo/simple_dnn.ipynb#ch0000027?line=3'>4</a>\u001b[0m nc_init \u001b[39m=\u001b[39m nc\u001b[39m.\u001b[39mDataset(\u001b[39mf\u001b[39m\u001b[39m\"\u001b[39m\u001b[39m/glade/scratch/sshamekh/LES_512_ug16wtspt01_data/thetaxy\u001b[39m\u001b[39m{\u001b[39;00mz\u001b[39m/\u001b[39m\u001b[39m/\u001b[39m\u001b[39m2\u001b[39m\u001b[39m}\u001b[39;00m\u001b[39m_T\u001b[39m\u001b[39m{\u001b[39;00mtest_times[t]\u001b[39m}\u001b[39;00m\u001b[39m.nc\u001b[39m\u001b[39m\"\u001b[39m)\n",
      "\u001b[0;31mNameError\u001b[0m: name 'test_times' is not defined"
     ]
    }
   ],
   "source": [
    "nc_init = nc.Dataset(f\"/glade/scratch/sshamekh/LES_512_ug16wtspt01_data/wxy{z//2}_T{test_times[t]}.nc\")\n",
    "w_arr = nc_init[f'wxy{z//2}'][:].filled()[0,1,:,:]\n",
    "\n",
    "nc_init = nc.Dataset(f\"/glade/scratch/sshamekh/LES_512_ug16wtspt01_data/thetaxy{z//2}_T{test_times[t]}.nc\")\n",
    "theta_arr = nc_init[f'thetaxy{z//2}'][:].filled()[0,1,:,:]\n",
    "\n",
    "wtheta = w_arr*theta_arr\n",
    "\n",
    "fig,axes = plt.subplots(1,2,figsize=(13,5))\n",
    "\n",
    "im0 = axes[0].imshow(wtheta , cmap = 'RdBu_r' , interpolation = 'nearest' )\n",
    "fig.colorbar(im0, ax=axes[0], orientation='vertical', fraction=0.046, pad=0.04)\n",
    "axes[0].set_title(f\"2-D Heat Map of w*theta at t={test_times[t]} and z={z}\")\n",
    "\n",
    "im1 = axes[1].imshow(utils.coarse_array(wtheta.reshape(1,1,512,512),L).reshape(16,16) , cmap = 'RdBu_r' , interpolation = 'nearest' )\n",
    "fig.colorbar(im1, ax=axes[0], orientation='vertical', fraction=0.046, pad=0.04)\n",
    "axes[1].set_title(f\"2-D coarse grained Heat Map of w*theta at t={test_times[t]} and z={z}\")\n",
    "\n",
    "plt.show()"
   ]
  },
  {
   "cell_type": "markdown",
   "metadata": {},
   "source": [
    "## Define baseline model"
   ]
  },
  {
   "cell_type": "markdown",
   "metadata": {},
   "source": [
    "Baseline model : $\\overline{w*theta} \\simeq \\overline{w}*\\overline{theta}$"
   ]
  },
  {
   "cell_type": "markdown",
   "metadata": {},
   "source": [
    "Comparison of objective heat flux, baseline heat flux and element wise difference of them."
   ]
  },
  {
   "cell_type": "code",
   "execution_count": 36,
   "metadata": {},
   "outputs": [
    {
     "data": {
      "image/png": "[encoded data removed]",
      "text/plain": [
       "<Figure size 1296x360 with 6 Axes>"
      ]
     },
     "metadata": {
      "needs_background": "light"
     },
     "output_type": "display_data"
    }
   ],
   "source": [
    "from mpl_toolkits.axes_grid1 import make_axes_locatable\n",
    "\n",
    "z=0     # equivalent to z=18 : first alt is 18\n",
    "path_data = 'data/L_32/input_ds_for_simple_nn_T10_L_32.nc'  #'data/L_32_new/input_ds_for_simple_nn_T10_L_32.nc'\n",
    "nc_init = nc.Dataset(path_data)\n",
    "true_heat_flux = nc_init[f'sample'][:].filled()[:,-(4-z)].reshape(16,16)        #-(4-z) because : last 4 are wtheta, -(4-z) is wtheta at alt z\n",
    "\n",
    "w_arr = nc_init[f'sample'][:].filled()[:,-(16-z)].reshape(16,16)\n",
    "theta_arr = nc_init[f'sample'][:].filled()[:,-(12-z)].reshape(16,16)\n",
    "baseline_heat_flux = w_arr*theta_arr\n",
    "\n",
    "fig,axes = plt.subplots(1,3,figsize=(18,5))\n",
    "\n",
    "im0 = axes[0].imshow(true_heat_flux , cmap = 'RdBu_r' , interpolation = 'nearest' )\n",
    "fig.colorbar(im0, ax=axes[0], orientation='vertical', fraction=0.046, pad=0.04)\n",
    "axes[0].set_title(f\"2-D Heat Map of true w*theta at t={10} and z={18}\")\n",
    "\n",
    "im1 = axes[1].imshow(baseline_heat_flux , cmap = 'RdBu_r' , interpolation = 'nearest' )\n",
    "fig.colorbar(im1, ax=axes[1], orientation='vertical', fraction=0.046, pad=0.04)\n",
    "axes[1].set_title(f\"2-D Heat Map of baseline w*theta at t={10} and z={18}\")\n",
    "\n",
    "im2 = axes[2].imshow(true_heat_flux - baseline_heat_flux , cmap = 'RdBu_r' , interpolation = 'nearest' , vmin=-0.00001 , vmax = 0.00005)\n",
    "fig.colorbar(im2, ax=axes[2], orientation='vertical', fraction=0.03, pad=0.04)\n",
    "axes[2].set_title(f\"Diff between objective and baseline w*theta at t={10} and z={18}\")\n",
    "\n",
    "fig.tight_layout()\n",
    "plt.show()"
   ]
  },
  {
   "cell_type": "markdown",
   "metadata": {},
   "source": [
    "Problem : the baseline seems to be way closer to the objective than NN.\n",
    "\n",
    "-> problem is in the computation of training data ?"
   ]
  },
  {
   "cell_type": "markdown",
   "metadata": {},
   "source": [
    "## Compare model and baseline"
   ]
  },
  {
   "cell_type": "markdown",
   "metadata": {},
   "source": [
    "baseline loss"
   ]
  },
  {
   "cell_type": "code",
   "execution_count": 16,
   "metadata": {},
   "outputs": [
    {
     "data": {
      "text/plain": [
       "1.4567439904702952e-07"
      ]
     },
     "execution_count": 16,
     "metadata": {},
     "output_type": "execute_result"
    }
   ],
   "source": [
    "loss = 0\n",
    "for i in range(16):\n",
    "    for j in range(16):\n",
    "        loss += (true_heat_flux[i,j] - baseline_heat_flux[i,j])**2\n",
    "loss"
   ]
  },
  {
   "cell_type": "code",
   "execution_count": null,
   "metadata": {},
   "outputs": [],
   "source": []
  }
 ],
 "metadata": {
  "interpreter": {
   "hash": "aee8b7b246df8f9039afb4144a1f6fd8d2ca17a180786b69acc140d282b71a49"
  },
  "kernelspec": {
   "display_name": "Pangeo (2019.09.12 - py3.7)",
   "language": "python",
   "name": "python3"
  },
  "language_info": {
   "codemirror_mode": {
    "name": "ipython",
    "version": 3
   },
   "file_extension": ".py",
   "mimetype": "text/x-python",
   "name": "python",
   "nbconvert_exporter": "python",
   "pygments_lexer": "ipython3",
   "version": "3.10.4"
  }
 },
 "nbformat": 4,
 "nbformat_minor": 4
}
