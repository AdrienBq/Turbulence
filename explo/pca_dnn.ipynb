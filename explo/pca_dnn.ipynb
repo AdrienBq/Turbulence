{
 "cells": [
  {
   "cell_type": "code",
   "execution_count": 2,
   "metadata": {},
   "outputs": [],
   "source": [
    "import pandas as pd\n",
    "import xarray as xr\n",
    "import numpy as np\n",
    "import matplotlib.pyplot as plt\n",
    "from tqdm import tqdm, trange\n",
    "import netCDF4 as nc\n",
    "\n",
    "import os\n",
    "import sys\n",
    "from pathlib import Path\n",
    "\n",
    "os.chdir(Path(sys.path[0]).parent)\n",
    "import modules.utils as utils\n",
    "\n",
    "import torch\n",
    "import torch.nn as nn\n",
    "import torch.nn.functional as F"
   ]
  },
  {
   "cell_type": "code",
   "execution_count": 3,
   "metadata": {},
   "outputs": [],
   "source": [
    "coarse_factors = [32]\n",
    "Directory = f\"data\"\n",
    "\n",
    "variables=['u', 'v', 'w', 'theta', 's', 'tke', 'wtheta']\n",
    "nz=376\n",
    "\n",
    "len_samples = nz*len(variables)\n",
    "len_in = nz*(len(variables)-1)\n",
    "len_out = nz"
   ]
  },
  {
   "cell_type": "code",
   "execution_count": 4,
   "metadata": {},
   "outputs": [
    {
     "name": "stdout",
     "output_type": "stream",
     "text": [
      "[49  5 33 54 26  8 17 46 20 60 57 13 31  7 11  3 62  9 56  1 44 32 52 35\n",
      " 22 58 24 47 55 42 23  2 14 27 43 10 21 34 59 45 51  4 41 29 25 18 53 19\n",
      " 28]\n",
      "[12 36 37 50 40 16 48 38  6 39 15 61 30]\n"
     ]
    }
   ],
   "source": [
    "model_number = 11\n",
    "\n",
    "train_times = pd.read_csv(Directory+f'/test_train_times/times_train_{model_number}.csv').drop(columns=['Unnamed: 0']).to_numpy().transpose()[0]\n",
    "test_times = pd.read_csv(Directory+f'/test_train_times/times_test_{model_number}.csv').drop(columns=['Unnamed: 0']).to_numpy().transpose()[0]\n",
    "print(train_times)\n",
    "print(test_times)"
   ]
  },
  {
   "cell_type": "code",
   "execution_count": 25,
   "metadata": {},
   "outputs": [
    {
     "name": "stdout",
     "output_type": "stream",
     "text": [
      "torch.Size([12544, 100])\n",
      "torch.Size([3328, 100])\n"
     ]
    }
   ],
   "source": [
    "device = torch.device(\"cuda:0\" if torch.cuda.is_available() else \"cpu\")\n",
    "\n",
    "input_train, output_train, input_test, output_test = utils.make_train_test_ds(coarse_factors, len_in, train_times, test_times, Directory)\n",
    "ins = [input_train, input_test]\n",
    "outs = [output_train, output_test]\n",
    "\n",
    "reduced_len = 100\n",
    "\n",
    "for j in range(len(ins)):\n",
    "    input = ins[j]\n",
    "    input = input.reshape(-1,len(variables)-1,nz)\n",
    "    for i in range(len(variables)-1):\n",
    "        input[:,i] -= input[:,i].mean()\n",
    "        input[:,i] /= input[:,i].std()\n",
    "    input = input.reshape(-1,(len(variables)-1)*nz)\n",
    "    input = input.to(device)\n",
    "    ins[j] = input\n",
    "\n",
    "for i in range(len(outs)):\n",
    "    i in range(len(ins))\n",
    "    output -= output.mean()\n",
    "    output /= output.std()\n",
    "    output = output.to(device)\n",
    "    outs[i] = output\n",
    "\n",
    "U,S,V = torch.pca_lowrank(torch.concat((input_train, input_test), axis=0), q=reduced_len)\n",
    "\n",
    "for i in range(len(ins)) :\n",
    "    ins[i] = torch.mm(ins[i], V)\n",
    "    print(ins[i].shape)   "
   ]
  },
  {
   "cell_type": "code",
   "execution_count": null,
   "metadata": {},
   "outputs": [],
   "source": []
  }
 ],
 "metadata": {
  "interpreter": {
   "hash": "aee8b7b246df8f9039afb4144a1f6fd8d2ca17a180786b69acc140d282b71a49"
  },
  "kernelspec": {
   "display_name": "Python 3.10.4 64-bit",
   "language": "python",
   "name": "python3"
  },
  "language_info": {
   "codemirror_mode": {
    "name": "ipython",
    "version": 3
   },
   "file_extension": ".py",
   "mimetype": "text/x-python",
   "name": "python",
   "nbconvert_exporter": "python",
   "pygments_lexer": "ipython3",
   "version": "3.10.4"
  },
  "orig_nbformat": 4
 },
 "nbformat": 4,
 "nbformat_minor": 2
}
