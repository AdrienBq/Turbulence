{
 "cells": [
  {
   "cell_type": "code",
   "execution_count": 1,
   "metadata": {},
   "outputs": [],
   "source": [
    "import pandas as pd\n",
    "import xarray as xr\n",
    "import numpy as np\n",
    "import matplotlib.pyplot as plt\n",
    "from tqdm import tqdm, trange\n",
    "import netCDF4 as nc\n",
    "\n",
    "import os\n",
    "import sys\n",
    "from pathlib import Path\n",
    "\n",
    "os.chdir(Path(sys.path[0]).parent)\n",
    "import modules.utils as utils\n",
    "\n",
    "import torch\n",
    "import torch.nn as nn\n",
    "import torch.nn.functional as F"
   ]
  },
  {
   "cell_type": "markdown",
   "metadata": {},
   "source": [
    "## Prepare model"
   ]
  },
  {
   "cell_type": "code",
   "execution_count": 2,
   "metadata": {},
   "outputs": [],
   "source": [
    "coarse_factors = [32]\n",
    "Directory = f\"data\"\n",
    "\n",
    "variables=['u', 'v', 'w', 'theta', 's', 'tke', 'wtheta']\n",
    "nz=376\n",
    "\n",
    "len_samples = nz*len(variables)\n",
    "len_in = nz*(len(variables)-1)\n",
    "len_out = nz"
   ]
  },
  {
   "cell_type": "code",
   "execution_count": 3,
   "metadata": {},
   "outputs": [
    {
     "name": "stdout",
     "output_type": "stream",
     "text": [
      "[20 43 47 17 32 36 46  1 58 40  9 48 23 50  8 38  4 30 13 27 19 25  5 55\n",
      " 45  3 49 60 56 34 42 31 54 16 21 26 61 15 11 59 14 10 62 33  2 39 29 51\n",
      " 52]\n",
      "[24 18  7 22 53 44 41 12 35 37  6 57 28]\n"
     ]
    }
   ],
   "source": [
    "model_number = 10\n",
    "\n",
    "train_times = pd.read_csv(Directory+f'/test_train_times/times_train_{model_number}.csv').drop(columns=['Unnamed: 0']).to_numpy().transpose()[0]\n",
    "test_times = pd.read_csv(Directory+f'/test_train_times/times_test_{model_number}.csv').drop(columns=['Unnamed: 0']).to_numpy().transpose()[0]\n",
    "print(train_times)\n",
    "print(test_times)"
   ]
  },
  {
   "cell_type": "code",
   "execution_count": 4,
   "metadata": {},
   "outputs": [],
   "source": [
    "input_train, output_train, input_test, output_test = utils.make_train_test_ds(coarse_factors, len_in, train_times, test_times, Directory)"
   ]
  },
  {
   "cell_type": "code",
   "execution_count": 5,
   "metadata": {},
   "outputs": [],
   "source": [
    "class DNN(nn.Module):\n",
    "    def __init__(self, batch_size, input_size, output_size, drop_prob1=0.2, drop_prob2=0.3, drop_prob3=0.4, hidden_size1=1024, hidden_size2=512, hidden_size3=256):\n",
    "        super(DNN, self).__init__()\n",
    "        self.regression = nn.Sequential(nn.Linear(input_size, hidden_size1),\n",
    "                                        nn.ReLU(),\n",
    "                                        nn.Dropout(drop_prob1),\n",
    "                                        nn.Linear(hidden_size1, hidden_size2),\n",
    "                                        nn.ReLU(),\n",
    "                                        nn.Dropout(drop_prob2),\n",
    "                                        nn.Linear(hidden_size2, hidden_size3),\n",
    "                                        nn.ReLU(),\n",
    "                                        nn.Dropout(drop_prob3),\n",
    "                                        nn.Linear(hidden_size3, output_size)\n",
    "                                        )\n",
    "        self.drop_prob1 = drop_prob1\n",
    "        self.drop_prob2 = drop_prob2\n",
    "        self.drop_prob3 = drop_prob3\n",
    "        self.batch_size = batch_size\n",
    "        self.input_shape = input_size\n",
    "        self.output_shape = output_size\n",
    "        self.hidden_size1 = hidden_size1\n",
    "        self.hidden_size2 = hidden_size2\n",
    "        self.hidden_size3 = hidden_size3\n",
    "\n",
    "    \n",
    "    def forward(self, x):\n",
    "        return self.regression(x)"
   ]
  },
  {
   "cell_type": "markdown",
   "metadata": {},
   "source": [
    "## Load model"
   ]
  },
  {
   "cell_type": "code",
   "execution_count": 6,
   "metadata": {},
   "outputs": [
    {
     "data": {
      "text/plain": [
       "DNN(\n",
       "  (regression): Sequential(\n",
       "    (0): Linear(in_features=2256, out_features=1024, bias=True)\n",
       "    (1): ReLU()\n",
       "    (2): Dropout(p=0.2, inplace=False)\n",
       "    (3): Linear(in_features=1024, out_features=512, bias=True)\n",
       "    (4): ReLU()\n",
       "    (5): Dropout(p=0.3, inplace=False)\n",
       "    (6): Linear(in_features=512, out_features=256, bias=True)\n",
       "    (7): ReLU()\n",
       "    (8): Dropout(p=0.4, inplace=False)\n",
       "    (9): Linear(in_features=256, out_features=376, bias=True)\n",
       "  )\n",
       ")"
      ]
     },
     "execution_count": 6,
     "metadata": {},
     "output_type": "execute_result"
    }
   ],
   "source": [
    "learning_rate = 0.001\n",
    "batch_size = 16\n",
    "nb_epochs = 20\n",
    "train_losses=[]\n",
    "test_losses=[]\n",
    "\n",
    "model_load = DNN(batch_size=batch_size,input_size=len_in,output_size=len_out)\n",
    "model_load.load_state_dict(torch.load(f'explo/models/simple_dnn{model_number}'))\n",
    "model_load.eval()"
   ]
  },
  {
   "cell_type": "code",
   "execution_count": 7,
   "metadata": {},
   "outputs": [
    {
     "data": {
      "text/plain": [
       "<generator object Module.parameters at 0x11c9a09e0>"
      ]
     },
     "execution_count": 7,
     "metadata": {},
     "output_type": "execute_result"
    }
   ],
   "source": [
    "model_load.parameters()"
   ]
  },
  {
   "cell_type": "code",
   "execution_count": 8,
   "metadata": {},
   "outputs": [
    {
     "name": "stdout",
     "output_type": "stream",
     "text": [
      "regression.0.weight \t torch.Size([1024, 2256])\n",
      "regression.0.bias \t torch.Size([1024])\n",
      "regression.3.weight \t torch.Size([512, 1024])\n",
      "regression.3.bias \t torch.Size([512])\n",
      "regression.6.weight \t torch.Size([256, 512])\n",
      "regression.6.bias \t torch.Size([256])\n",
      "regression.9.weight \t torch.Size([376, 256])\n",
      "regression.9.bias \t torch.Size([376])\n"
     ]
    }
   ],
   "source": [
    "for param_tensor in model_load.state_dict():\n",
    "    print(param_tensor, \"\\t\", model_load.state_dict()[param_tensor].size())"
   ]
  },
  {
   "cell_type": "code",
   "execution_count": 9,
   "metadata": {},
   "outputs": [
    {
     "data": {
      "text/plain": [
       "tensor([[ 0.0204,  0.0128, -0.0116,  ..., -0.0010,  0.0046,  0.0102],\n",
       "        [ 0.0021,  0.0004, -0.0052,  ..., -0.0112,  0.0002, -0.0034],\n",
       "        [-0.0080,  0.0008, -0.0085,  ...,  0.0193, -0.0032, -0.0029],\n",
       "        ...,\n",
       "        [ 0.0107, -0.0132,  0.0137,  ..., -0.0146, -0.0082,  0.0156],\n",
       "        [-0.0005, -0.0053,  0.0173,  ...,  0.0052, -0.0093, -0.0081],\n",
       "        [ 0.0068, -0.0151,  0.0163,  ...,  0.0112, -0.0093, -0.0083]])"
      ]
     },
     "execution_count": 9,
     "metadata": {},
     "output_type": "execute_result"
    }
   ],
   "source": [
    "model_load.state_dict()['regression.0.weight']"
   ]
  },
  {
   "cell_type": "code",
   "execution_count": 59,
   "metadata": {},
   "outputs": [],
   "source": [
    "X = input_test[100].numpy()\n",
    "T = output_test[100].numpy()\n",
    "\n",
    "W = []\n",
    "B=[]\n",
    "for param_tensor in model_load.state_dict():\n",
    "    if param_tensor.__contains__(\"weight\"):\n",
    "        W.append(model_load.state_dict()[param_tensor].cpu().detach().numpy())\n",
    "    if param_tensor.__contains__(\"bias\"):\n",
    "        B.append(model_load.state_dict()[param_tensor].cpu().detach().numpy())\n",
    "L = len(W)"
   ]
  },
  {
   "cell_type": "code",
   "execution_count": 60,
   "metadata": {},
   "outputs": [
    {
     "name": "stdout",
     "output_type": "stream",
     "text": [
      "(2256,)\n",
      "(1024,)\n",
      "(512,)\n",
      "(256,)\n",
      "(376,)\n"
     ]
    }
   ],
   "source": [
    "A = [X]+[None]*L\n",
    "print(A[0].shape)\n",
    "for l in range(L):\n",
    "    A[l+1] = np.maximum(0,A[l].dot(W[l].T)+B[l])\n",
    "    print(A[l+1].shape)\n"
   ]
  },
  {
   "cell_type": "code",
   "execution_count": 61,
   "metadata": {},
   "outputs": [],
   "source": [
    "\n",
    "R = [None]*L + [A[L]*T]"
   ]
  },
  {
   "cell_type": "code",
   "execution_count": 62,
   "metadata": {},
   "outputs": [],
   "source": [
    "def rho(w,l):  return w #+ [None,0.1,0.0,0.0][l] * np.maximum(0,w)\n",
    "def incr(z,l): return z #+ [None,0.0,0.1,0.0][l] * (z**2).mean()**.5+1e-9\n"
   ]
  },
  {
   "cell_type": "code",
   "execution_count": 63,
   "metadata": {},
   "outputs": [],
   "source": [
    "for l in range(1,L)[::-1]:\n",
    "    w = rho(W[l],l)\n",
    "    b = rho(B[l],l)\n",
    "    \n",
    "    z = incr(A[l].dot(w.T)+b,l)   # step 1\n",
    "    #z= z.reshape(z.shape[0])\n",
    "    s = R[l+1] / z                # step 2\n",
    "    c = s.dot(w)               # step 3\n",
    "    R[l] = A[l]*c                # step 4\n"
   ]
  },
  {
   "cell_type": "code",
   "execution_count": 64,
   "metadata": {},
   "outputs": [],
   "source": [
    "w  = W[0]\n",
    "wp = np.maximum(0,w)\n",
    "wm = np.minimum(0,w)\n",
    "lb = A[0]*0-1\n",
    "hb = A[0]*0+1\n",
    "\n",
    "z = A[0].dot(w.T)-lb.dot(wp.T)-hb.dot(wm.T)+1e-9    # step 1\n",
    "s = R[1]/z                                          # step 2\n",
    "c,cp,cm  = s.dot(w),s.dot(wp),s.dot(wm)             # step 3\n",
    "R[0] = A[0]*c-lb*cp-hb*cm                           # step 4\n"
   ]
  },
  {
   "cell_type": "code",
   "execution_count": 65,
   "metadata": {},
   "outputs": [
    {
     "data": {
      "text/plain": [
       "(2256,)"
      ]
     },
     "execution_count": 65,
     "metadata": {},
     "output_type": "execute_result"
    }
   ],
   "source": [
    "R[0].shape"
   ]
  },
  {
   "cell_type": "code",
   "execution_count": 66,
   "metadata": {},
   "outputs": [
    {
     "name": "stdout",
     "output_type": "stream",
     "text": [
      "-1.1549822e-05 1.1079575e-05\n"
     ]
    }
   ],
   "source": [
    "plot_ds = R[0].reshape(376,6)\n",
    "plot_ds.shape\n",
    "print(plot_ds.min(), plot_ds.max())"
   ]
  },
  {
   "cell_type": "code",
   "execution_count": 67,
   "metadata": {},
   "outputs": [
    {
     "data": {
      "image/png": "[encoded data removed]",
      "text/plain": [
       "<Figure size 432x288 with 2 Axes>"
      ]
     },
     "metadata": {
      "needs_background": "light"
     },
     "output_type": "display_data"
    }
   ],
   "source": [
    "im = plt.imshow(plot_ds , cmap = 'RdBu_r' , interpolation = 'nearest', aspect=0.01)\n",
    "plt.colorbar(im, orientation='vertical', fraction=0.046, pad=0.04)\n",
    "plt.show()"
   ]
  },
  {
   "cell_type": "code",
   "execution_count": null,
   "metadata": {},
   "outputs": [],
   "source": []
  }
 ],
 "metadata": {
  "interpreter": {
   "hash": "aee8b7b246df8f9039afb4144a1f6fd8d2ca17a180786b69acc140d282b71a49"
  },
  "kernelspec": {
   "display_name": "Python 3.10.4 64-bit",
   "language": "python",
   "name": "python3"
  },
  "language_info": {
   "codemirror_mode": {
    "name": "ipython",
    "version": 3
   },
   "file_extension": ".py",
   "mimetype": "text/x-python",
   "name": "python",
   "nbconvert_exporter": "python",
   "pygments_lexer": "ipython3",
   "version": "3.10.4"
  },
  "orig_nbformat": 4
 },
 "nbformat": 4,
 "nbformat_minor": 2
}
