{
 "cells": [
  {
   "cell_type": "code",
   "execution_count": 1,
   "metadata": {},
   "outputs": [
    {
     "ename": "ModuleNotFoundError",
     "evalue": "No module named 'modules'",
     "output_type": "error",
     "traceback": [
      "\u001b[0;31m---------------------------------------------------------------------------\u001b[0m",
      "\u001b[0;31mModuleNotFoundError\u001b[0m                       Traceback (most recent call last)",
      "\u001b[0;32m<ipython-input-1-4be9bd1e919c>\u001b[0m in \u001b[0;36m<module>\u001b[0;34m\u001b[0m\n\u001b[1;32m      4\u001b[0m \u001b[0;32mimport\u001b[0m \u001b[0mmatplotlib\u001b[0m\u001b[0;34m.\u001b[0m\u001b[0mpyplot\u001b[0m \u001b[0;32mas\u001b[0m \u001b[0mplt\u001b[0m\u001b[0;34m\u001b[0m\u001b[0;34m\u001b[0m\u001b[0m\n\u001b[1;32m      5\u001b[0m \u001b[0;34m\u001b[0m\u001b[0m\n\u001b[0;32m----> 6\u001b[0;31m \u001b[0;32mimport\u001b[0m \u001b[0mmodules\u001b[0m\u001b[0;34m.\u001b[0m\u001b[0mutils\u001b[0m \u001b[0;32mas\u001b[0m \u001b[0mutils\u001b[0m\u001b[0;34m\u001b[0m\u001b[0;34m\u001b[0m\u001b[0m\n\u001b[0m\u001b[1;32m      7\u001b[0m \u001b[0;34m\u001b[0m\u001b[0m\n\u001b[1;32m      8\u001b[0m \u001b[0;32mimport\u001b[0m \u001b[0mtorch\u001b[0m\u001b[0;34m\u001b[0m\u001b[0;34m\u001b[0m\u001b[0m\n",
      "\u001b[0;31mModuleNotFoundError\u001b[0m: No module named 'modules'"
     ]
    }
   ],
   "source": [
    "import pandas as df\n",
    "import xarray as xr\n",
    "import numpy as np\n",
    "import matplotlib.pyplot as plt\n",
    "\n",
    "import modules.utils as utils\n",
    "\n",
    "import torch\n",
    "import torch.nn as nn\n",
    "import torch.nn.functional as F"
   ]
  },
  {
   "cell_type": "markdown",
   "metadata": {},
   "source": [
    "## Preprocess the data"
   ]
  },
  {
   "cell_type": "code",
   "execution_count": 2,
   "metadata": {},
   "outputs": [],
   "source": [
    "Directory = 'data'\n",
    "u_ds = utils.concatenate_time(Directory, 'u')\n",
    "v_ds = utils.concatenate_time(Directory, 'v')\n",
    "w_ds = utils.concatenate_time(Directory, 'w')\n",
    "theta_ds = utils.concatenate_time(Directory, 'theta')\n",
    "assert u_ds.shape == v_ds.shape == w_ds.shape == theta_ds.shape, 'u,v,w,theta have different shape'"
   ]
  },
  {
   "cell_type": "code",
   "execution_count": 3,
   "metadata": {},
   "outputs": [],
   "source": [
    "wtheta_ds = w_ds*theta_ds"
   ]
  },
  {
   "cell_type": "code",
   "execution_count": 4,
   "metadata": {},
   "outputs": [],
   "source": [
    "def coarse_array(ds, L):\n",
    "    '''\n",
    "    ## Description\n",
    "    Coarsen a dataset over the altitude and time axis.\n",
    "    The new shape is (time, altitude, y, x) where y and x are divided by L.\n",
    "\n",
    "    ## Parameters\n",
    "    - ds (np array) : dataset to coarsen\n",
    "    - L (int) : coarsening factor\n",
    "    '''\n",
    "    #initialize coarse array\n",
    "    coarse_ds = np.zeros((ds.shape[0], ds.shape[1], int(ds.shape[2]/L), int(ds.shape[3]/L)))\n",
    "    for t in range(ds.shape[0]):\n",
    "        for z in range(ds.shape[1]):\n",
    "            for i in range(int(ds.shape[2]/L)):\n",
    "                for j in range(int(ds.shape[3]/L)):\n",
    "                    coarse_ds[t,z,i,j] = np.mean(ds[t,z,i*L:(i+1)*L,j*L:(j+1)*L])\n",
    "    return coarse_ds"
   ]
  },
  {
   "cell_type": "code",
   "execution_count": 5,
   "metadata": {},
   "outputs": [
    {
     "data": {
      "text/plain": [
       "(1, 4, 16, 16)"
      ]
     },
     "execution_count": 5,
     "metadata": {},
     "output_type": "execute_result"
    }
   ],
   "source": [
    "u_coarse = utils.coarse_array(u_ds, 32)\n",
    "u_coarse.shape"
   ]
  },
  {
   "cell_type": "code",
   "execution_count": 6,
   "metadata": {},
   "outputs": [],
   "source": [
    "# get vector of altitudes for each y,x point\n",
    "u_samples = np.zeros((u_coarse.shape[0]*u_coarse.shape[2]*u_coarse.shape[3], u_coarse.shape[1]))\n",
    "\n",
    "for t in range(u_coarse.shape[0]):\n",
    "    for i in range(u_coarse.shape[2]):\n",
    "        for j in range(u_coarse.shape[3]):\n",
    "            u_samples[t*u_coarse.shape[2]*u_coarse.shape[3] + i*u_coarse.shape[3] + j] = u_coarse[t,:,i,j]\n"
   ]
  },
  {
   "cell_type": "code",
   "execution_count": 7,
   "metadata": {},
   "outputs": [],
   "source": [
    "def var_samples(ds,L):\n",
    "    '''\n",
    "    ## Description\n",
    "    Get the samples of a dataset over the altitude axis.\n",
    "    The new shape is (time, y, x) where y and x are divided by L.\n",
    "\n",
    "    ## Parameters\n",
    "    - ds (np array) : dataset to coarsen\n",
    "    - L (int) : coarsening factor\n",
    "    '''\n",
    "    #initialize coarse array\n",
    "    ds_coarse = coarse_array(ds, L)\n",
    "    samples = np.zeros((ds_coarse.shape[0]*ds_coarse.shape[2]*ds_coarse.shape[3], ds_coarse.shape[1]))\n",
    "    for t in range(ds_coarse.shape[0]):\n",
    "        for i in range(ds_coarse.shape[2]):\n",
    "            for j in range(ds_coarse.shape[3]):\n",
    "                samples[t*ds_coarse.shape[2]*ds_coarse.shape[3] + i*ds_coarse.shape[3] + j] = ds_coarse[t,:,i,j]\n",
    "    return samples"
   ]
  },
  {
   "cell_type": "code",
   "execution_count": 8,
   "metadata": {},
   "outputs": [
    {
     "data": {
      "text/plain": [
       "array([[14.9804707 , 14.99043066, 15.00086523, 15.00930762],\n",
       "       [14.8064375 , 14.82397559, 14.84153613, 14.8614502 ],\n",
       "       [14.9475625 , 14.96709766, 14.98912402, 15.0123125 ],\n",
       "       ...,\n",
       "       [14.7393252 , 14.75418555, 14.76291113, 14.76828418],\n",
       "       [14.69826953, 14.71771484, 14.73111426, 14.7410918 ],\n",
       "       [14.42030859, 14.43687695, 14.45350586, 14.46567773]])"
      ]
     },
     "execution_count": 8,
     "metadata": {},
     "output_type": "execute_result"
    }
   ],
   "source": [
    "utils.variable_samples(u_ds, 32)"
   ]
  },
  {
   "cell_type": "code",
   "execution_count": 9,
   "metadata": {},
   "outputs": [],
   "source": [
    "def input_dataset(dir,variables,L):\n",
    "    '''\n",
    "    ## Description\n",
    "    Create a dataset of the variables in the list variables.\n",
    "    The new shape is (time*y*x, altitude*nbvar).\n",
    "\n",
    "    ## Parameters\n",
    "    - dir (str) : directory where the data is stored\n",
    "    - variables (list) : list of variables to include in the dataset\n",
    "    - L (int) : coarsening factor\n",
    "    '''\n",
    "    l = len(variables)\n",
    "    assert l!=0, 'variables list is empty'\n",
    "    #initialize dataset\n",
    "    ds = var_samples(utils.concatenate_time(dir, variables[0]), L)\n",
    "    for var in range(1,l):\n",
    "        ds = np.concatenate((ds,var_samples(utils.concatenate_time(dir, variables[var]),L)), axis=1)\n",
    "    return ds"
   ]
  },
  {
   "cell_type": "code",
   "execution_count": 10,
   "metadata": {},
   "outputs": [],
   "source": [
    "variables = ['u', 'v', 'w', 'theta']\n",
    "input_ds = utils.input_dataset(Directory, variables, 32)"
   ]
  },
  {
   "cell_type": "code",
   "execution_count": 11,
   "metadata": {},
   "outputs": [
    {
     "data": {
      "text/plain": [
       "(256, 16)"
      ]
     },
     "execution_count": 11,
     "metadata": {},
     "output_type": "execute_result"
    }
   ],
   "source": [
    "input_ds.shape"
   ]
  },
  {
   "cell_type": "code",
   "execution_count": 12,
   "metadata": {},
   "outputs": [],
   "source": [
    "output_ds = utils.variable_samples(wtheta_ds, 32)"
   ]
  },
  {
   "cell_type": "code",
   "execution_count": 13,
   "metadata": {},
   "outputs": [
    {
     "data": {
      "text/plain": [
       "(256, 4)"
      ]
     },
     "execution_count": 13,
     "metadata": {},
     "output_type": "execute_result"
    }
   ],
   "source": [
    "output_ds.shape"
   ]
  },
  {
   "cell_type": "code",
   "execution_count": 14,
   "metadata": {},
   "outputs": [
    {
     "data": {
      "text/plain": [
       "(256, 20)"
      ]
     },
     "execution_count": 14,
     "metadata": {},
     "output_type": "execute_result"
    }
   ],
   "source": [
    "tot_ds = np.concatenate((input_ds, output_ds), axis=1)\n",
    "tot_ds.shape"
   ]
  },
  {
   "cell_type": "markdown",
   "metadata": {},
   "source": [
    "## First NN"
   ]
  },
  {
   "cell_type": "code",
   "execution_count": 51,
   "metadata": {},
   "outputs": [],
   "source": [
    "# define a three layer linear neural network with one hidden layer, input size is 16 and output size is 4\n",
    "class LinNet(nn.Module):\n",
    "    def __init__(self, input_size, hidden_size, output_size):\n",
    "        super(LinNet, self).__init__()\n",
    "        self.fc1 = nn.Linear(input_size, hidden_size)\n",
    "        self.fc2 = nn.Linear(hidden_size, hidden_size)\n",
    "        self.fc3 = nn.Linear(hidden_size, output_size)\n",
    "    \n",
    "    def forward(self, x):\n",
    "        x = F.relu(self.fc1(x))\n",
    "        x = F.relu(self.fc2(x))\n",
    "        x = self.fc3(x)\n",
    "        return x\n",
    "\n",
    "learning_rate = 0.001\n",
    "model = LinNet(16,32,4)\n",
    "optimizer = torch.optim.Adam(model.parameters(), lr=learning_rate)"
   ]
  },
  {
   "cell_type": "code",
   "execution_count": 47,
   "metadata": {},
   "outputs": [
    {
     "data": {
      "text/plain": [
       "(64, 16)"
      ]
     },
     "execution_count": 47,
     "metadata": {},
     "output_type": "execute_result"
    }
   ],
   "source": [
    "# split input_ds and output_ds into training and validation sets\n",
    "train, test = utils.split_train_val(tot_ds)\n",
    "input_train, output_train, input_val, output_val = train[:,:16], train[:,16:], test[:,:16], test[:,16:]\n",
    "input_val.shape\n",
    "#tot_ds.shape"
   ]
  },
  {
   "cell_type": "code",
   "execution_count": 29,
   "metadata": {},
   "outputs": [
    {
     "data": {
      "text/plain": [
       "tensor(1.9449, grad_fn=<MseLossBackward>)"
      ]
     },
     "execution_count": 29,
     "metadata": {},
     "output_type": "execute_result"
    }
   ],
   "source": [
    "input = torch.from_numpy(input_train).float()\n",
    "output = torch.from_numpy(output_train).float()\n",
    "input_batch = input[batch_size:2*batch_size,:]\n",
    "output_batch = output[batch_size:2*batch_size,:]\n",
    "F.mse_loss(model(input_batch), output_batch, reduction='sum')"
   ]
  },
  {
   "cell_type": "code",
   "execution_count": 52,
   "metadata": {},
   "outputs": [
    {
     "name": "stdout",
     "output_type": "stream",
     "text": [
      "Epoch [10/100], Loss: 3.018055\n",
      "Epoch [20/100], Loss: 2.579090\n",
      "Epoch [30/100], Loss: 2.054344\n",
      "Epoch [40/100], Loss: 1.196923\n",
      "Epoch [50/100], Loss: 0.195739\n",
      "Epoch [60/100], Loss: 0.025092\n",
      "Epoch [70/100], Loss: 0.006778\n",
      "Epoch [80/100], Loss: 0.005000\n",
      "Epoch [90/100], Loss: 0.003864\n",
      "Epoch [100/100], Loss: 0.003124\n"
     ]
    }
   ],
   "source": [
    "# train the model\n",
    "nb_epochs = 100\n",
    "losses=[]\n",
    "batch_size = 32\n",
    "model.train()\n",
    "\n",
    "for epoch in range(nb_epochs):\n",
    "    tot_losses=0\n",
    "    for i in np.random.permutation(input_train.shape[0]//batch_size):\n",
    "        # convert numpy array to torch tensor\n",
    "        input = torch.from_numpy(input_train).float()\n",
    "        output = torch.from_numpy(output_train).float()\n",
    "        loss=0\n",
    "\n",
    "        input_batch = input[i*batch_size:(i+1)*batch_size,:]\n",
    "        output_batch = output[i*batch_size:(i+1)*batch_size,:]\n",
    "        optimizer.zero_grad()\n",
    "        # forward pass\n",
    "        output_pred = model(input_batch)\n",
    "        # compute loss\n",
    "        loss += F.mse_loss(output_pred, output_batch, reduction='sum')\n",
    "        tot_losses += loss.item()\n",
    "        # backward pass\n",
    "        loss.backward()\n",
    "        optimizer.step()\n",
    "    losses.append(tot_losses/(input_train.shape[0]//batch_size))\n",
    "    if (epoch+1)%10==0:\n",
    "        print('Epoch [{}/{}], Loss: {:.6f}'.format(epoch+1, nb_epochs, tot_losses/(input_train.shape[0]//batch_size)))"
   ]
  },
  {
   "cell_type": "code",
   "execution_count": 55,
   "metadata": {},
   "outputs": [
    {
     "data": {
      "text/plain": [
       "[<matplotlib.lines.Line2D at 0x7f932ffe8640>]"
      ]
     },
     "execution_count": 55,
     "metadata": {},
     "output_type": "execute_result"
    },
    {
     "data": {
      "image/png": "[encoded data removed]",
      "text/plain": [
       "<Figure size 432x288 with 1 Axes>"
      ]
     },
     "metadata": {
      "needs_background": "light"
     },
     "output_type": "display_data"
    }
   ],
   "source": [
    "plt.plot(losses)"
   ]
  },
  {
   "cell_type": "code",
   "execution_count": 56,
   "metadata": {},
   "outputs": [
    {
     "name": "stdout",
     "output_type": "stream",
     "text": [
      "Test loss: 0.003003\n"
     ]
    }
   ],
   "source": [
    "# test the model\n",
    "\n",
    "# convert numpy array to torch tensor\n",
    "input_test = torch.from_numpy(input_val).float()\n",
    "output_test = torch.from_numpy(output_val).float()\n",
    "predictions= torch.zeros(output_test.shape)\n",
    "tot_losses=0\n",
    "\n",
    "model.eval()\n",
    "# prediction\n",
    "output_pred = model(input_test)\n",
    "# compute loss\n",
    "loss = F.mse_loss(output_pred, output_test, reduction='sum')\n",
    "\n",
    "print('Test loss: {:.6f}'.format(loss*batch_size/input_test.shape[0]))"
   ]
  },
  {
   "cell_type": "code",
   "execution_count": 57,
   "metadata": {},
   "outputs": [
    {
     "name": "stdout",
     "output_type": "stream",
     "text": [
      "tensor([[-0.1718, -0.1762, -0.1793, -0.1852],\n",
      "        [-0.1489, -0.1460, -0.1535, -0.1595],\n",
      "        [-0.0096, -0.0031, -0.0083, -0.0073],\n",
      "        [-0.0275, -0.0156, -0.0251, -0.0280],\n",
      "        [-0.1305, -0.1288, -0.1351, -0.1352]], grad_fn=<SliceBackward>)\n",
      "tensor([[-0.1735, -0.1757, -0.1778, -0.1801],\n",
      "        [-0.1394, -0.1469, -0.1540, -0.1610],\n",
      "        [-0.0024, -0.0060, -0.0095, -0.0128],\n",
      "        [-0.0281, -0.0260, -0.0238, -0.0213],\n",
      "        [-0.1238, -0.1304, -0.1370, -0.1435]])\n"
     ]
    }
   ],
   "source": [
    "print(output_pred[:5])\n",
    "print(output_test[:5])"
   ]
  },
  {
   "cell_type": "code",
   "execution_count": 22,
   "metadata": {},
   "outputs": [],
   "source": [
    "# define a three layer convolutional neural network with one hidden layer, input size is 16 and output size is 4\n",
    "\n",
    "class CNN(nn.Module):\n",
    "    def __init__(self):\n",
    "        super(CNN, self).__init__()\n",
    "        self.conv1 = nn.Conv1d(in_channels=1, out_channels=16, kernel_size=3, stride=1, padding=1)\n",
    "        self.conv2 = nn.Conv1d(in_channels=16, out_channels=32, kernel_size=3, stride=1, padding=1)\n",
    "        self.conv3 = nn.Conv1d(in_channels=32, out_channels=64, kernel_size=3, stride=1, padding=1)\n",
    "        self.fc1 = nn.Linear(in_features=64, out_features=128)\n",
    "        self.fc2 = nn.Linear(in_features=128, out_features=4)\n",
    "\n",
    "    def forward(self, x):\n",
    "        x = F.relu(self.conv1(x))\n",
    "        x = F.max_pool1d(x, 2)\n",
    "        x = F.relu(self.conv2(x))\n",
    "        x = F.max_pool1d(x, 2)\n",
    "        x = F.relu(self.conv3(x))\n",
    "        x = F.max_pool1d(x, 2)\n",
    "        #x = x.view(-1, 64*4*4)\n",
    "        x = F.relu(self.fc1(x))\n",
    "        x = self.fc2(x)\n",
    "        return x"
   ]
  },
  {
   "cell_type": "code",
   "execution_count": null,
   "metadata": {},
   "outputs": [],
   "source": []
  }
 ],
 "metadata": {
  "interpreter": {
   "hash": "2126593c4ba056f374a5f953e7ab3e7ee968bf458a40de64ddebe48ce9256529"
  },
  "kernelspec": {
   "display_name": "Python 3.8.3 ('base')",
   "language": "python",
   "name": "python3"
  },
  "language_info": {
   "codemirror_mode": {
    "name": "ipython",
    "version": 3
   },
   "file_extension": ".py",
   "mimetype": "text/x-python",
   "name": "python",
   "nbconvert_exporter": "python",
   "pygments_lexer": "ipython3",
   "version": "3.8.3"
  },
  "orig_nbformat": 4
 },
 "nbformat": 4,
 "nbformat_minor": 2
}
