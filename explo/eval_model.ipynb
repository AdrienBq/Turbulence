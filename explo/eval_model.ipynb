{
 "cells": [
  {
   "cell_type": "code",
   "execution_count": 21,
   "metadata": {},
   "outputs": [],
   "source": [
    "import pandas as pd\n",
    "import xarray as xr\n",
    "import numpy as np\n",
    "import matplotlib.pyplot as plt\n",
    "from tqdm import tqdm, trange\n",
    "import netCDF4 as nc\n",
    "\n",
    "import os\n",
    "import sys\n",
    "from pathlib import Path\n",
    "\n",
    "os.chdir(Path(sys.path[0]).parent)\n",
    "import modules.utils as utils\n",
    "\n",
    "import torch\n",
    "import torch.nn as nn\n",
    "import torch.nn.functional as F"
   ]
  },
  {
   "cell_type": "markdown",
   "metadata": {},
   "source": [
    "## Prepare the data"
   ]
  },
  {
   "cell_type": "code",
   "execution_count": 22,
   "metadata": {},
   "outputs": [],
   "source": [
    "L = 32\n",
    "Directory = f\"data/L_{L}\"\n",
    "\n",
    "variables=['u', 'v', 'w', 'theta', 's', 'tke', 'wtheta']\n",
    "nz=376\n",
    "\n",
    "len_samples = nz*len(variables)\n",
    "len_in = nz*(len(variables)-1)\n",
    "len_out = nz"
   ]
  },
  {
   "cell_type": "markdown",
   "metadata": {},
   "source": [
    "### Split train test ds"
   ]
  },
  {
   "cell_type": "code",
   "execution_count": 23,
   "metadata": {},
   "outputs": [
    {
     "name": "stdout",
     "output_type": "stream",
     "text": [
      "[ 9 51 58 45  7 57 32  5 29  6  8 62 12 35 33 14 61 60 25 26 43 23 44 20\n",
      " 11 59 41 10 55 28 24 21 16 42  2 34 38 39 31 52 13 53 17 22 27 40 36 49\n",
      " 15] [47 46 54 56 19  3 48  1  4 30 37 18 50]\n"
     ]
    }
   ],
   "source": [
    "model_number = 9\n",
    "times_number = 8\n",
    "\n",
    "train_times = pd.read_csv(f'data/test_train_times/times_train_{times_number}.csv').drop(columns=['Unnamed: 0']).to_numpy().transpose()[0]\n",
    "test_times = pd.read_csv(f'data/test_train_times/times_test_{times_number}.csv').drop(columns=['Unnamed: 0']).to_numpy().transpose()[0]\n",
    "print(train_times,test_times)"
   ]
  },
  {
   "cell_type": "code",
   "execution_count": 24,
   "metadata": {},
   "outputs": [],
   "source": [
    "#init train ds\n",
    "path_data = Directory+f'/input_ds_for_simple_nn_T{train_times[0]}_L_{L}.nc'\n",
    "nc_init = nc.Dataset(path_data)\n",
    "train_ds = nc_init['sample'][:].filled()\n",
    "\n",
    "for t in train_times[1:]:\n",
    "    path_data = Directory+f'/input_ds_for_simple_nn_T{t}_L_{L}.nc'\n",
    "    nc_init = nc.Dataset(path_data)\n",
    "    time_ds = nc_init['sample'][:].filled()\n",
    "    train_ds = np.concatenate((train_ds, time_ds), axis=0)"
   ]
  },
  {
   "cell_type": "code",
   "execution_count": 25,
   "metadata": {},
   "outputs": [],
   "source": [
    "#init test ds\n",
    "path_data = Directory+f'/input_ds_for_simple_nn_T{test_times[0]}_L_{L}.nc'\n",
    "nc_init = nc.Dataset(path_data)\n",
    "test_ds = nc_init['sample'][:].filled()\n",
    "\n",
    "for t in test_times[1:]:\n",
    "    path_data = Directory+f'/input_ds_for_simple_nn_T{t}_L_{L}.nc'\n",
    "    nc_init = nc.Dataset(path_data)\n",
    "    time_ds = nc_init['sample'][:].filled()\n",
    "    test_ds = np.concatenate((test_ds, time_ds), axis=0)"
   ]
  },
  {
   "cell_type": "code",
   "execution_count": 26,
   "metadata": {},
   "outputs": [
    {
     "data": {
      "text/plain": [
       "(12544, 2256)"
      ]
     },
     "execution_count": 26,
     "metadata": {},
     "output_type": "execute_result"
    }
   ],
   "source": [
    "# split train and test ds in input-output datasets\n",
    "input_train, output_train, input_val, output_val = train_ds[:,:len_in], train_ds[:,len_in:], test_ds[:,:len_in], test_ds[:,len_in:]\n",
    "input_train.shape"
   ]
  },
  {
   "cell_type": "markdown",
   "metadata": {},
   "source": [
    "## Define the model"
   ]
  },
  {
   "cell_type": "code",
   "execution_count": 27,
   "metadata": {
    "tags": []
   },
   "outputs": [],
   "source": [
    "class DNN(nn.Module):\n",
    "    def __init__(self, batch_size, input_size, output_size, drop_prob1=0.2, drop_prob2=0.3, drop_prob3=0.4, hidden_size1=1024, hidden_size2=512, hidden_size3=256):\n",
    "        super(DNN, self).__init__()\n",
    "        self.regression = nn.Sequential(nn.Linear(input_size, hidden_size1),\n",
    "                                        nn.ReLU(),\n",
    "                                        nn.Dropout(drop_prob1),\n",
    "                                        nn.Linear(hidden_size1, hidden_size2),\n",
    "                                        nn.ReLU(),\n",
    "                                        nn.Dropout(drop_prob2),\n",
    "                                        nn.Linear(hidden_size2, hidden_size3),\n",
    "                                        nn.ReLU(),\n",
    "                                        nn.Dropout(drop_prob3),\n",
    "                                        nn.Linear(hidden_size3, output_size)\n",
    "                                        )\n",
    "        self.drop_prob1 = drop_prob1\n",
    "        self.drop_prob2 = drop_prob2\n",
    "        self.drop_prob3 = drop_prob3\n",
    "        self.batch_size = batch_size\n",
    "        self.input_shape = input_size\n",
    "        self.output_shape = output_size\n",
    "        self.hidden_size1 = hidden_size1\n",
    "        self.hidden_size2 = hidden_size2\n",
    "        self.hidden_size3 = hidden_size3\n",
    "\n",
    "    \n",
    "    def forward(self, x):\n",
    "        return self.regression(x)"
   ]
  },
  {
   "cell_type": "code",
   "execution_count": 28,
   "metadata": {
    "tags": []
   },
   "outputs": [],
   "source": [
    "learning_rate = 0.001\n",
    "batch_size = 32\n",
    "nb_epochs = 20\n",
    "train_losses=[]\n",
    "test_losses=[]\n",
    "n_batches = input_train.shape[0]//batch_size"
   ]
  },
  {
   "cell_type": "code",
   "execution_count": 29,
   "metadata": {},
   "outputs": [],
   "source": [
    "# train : convert numpy array to torch tensor\n",
    "input = torch.from_numpy(input_train).float()\n",
    "output = torch.from_numpy(output_train).float()\n",
    "\n",
    "# test : convert numpy array to torch tensor\n",
    "input_test = torch.from_numpy(input_val).float()\n",
    "output_test = torch.from_numpy(output_val).float()"
   ]
  },
  {
   "cell_type": "markdown",
   "metadata": {},
   "source": [
    "## Use previous models"
   ]
  },
  {
   "cell_type": "code",
   "execution_count": 30,
   "metadata": {},
   "outputs": [
    {
     "data": {
      "text/plain": [
       "DNN(\n",
       "  (regression): Sequential(\n",
       "    (0): Linear(in_features=2256, out_features=1024, bias=True)\n",
       "    (1): ReLU()\n",
       "    (2): Dropout(p=0.2, inplace=False)\n",
       "    (3): Linear(in_features=1024, out_features=512, bias=True)\n",
       "    (4): ReLU()\n",
       "    (5): Dropout(p=0.3, inplace=False)\n",
       "    (6): Linear(in_features=512, out_features=256, bias=True)\n",
       "    (7): ReLU()\n",
       "    (8): Dropout(p=0.4, inplace=False)\n",
       "    (9): Linear(in_features=256, out_features=376, bias=True)\n",
       "  )\n",
       ")"
      ]
     },
     "execution_count": 30,
     "metadata": {},
     "output_type": "execute_result"
    }
   ],
   "source": [
    "model_load = DNN(batch_size=batch_size,input_size=len_in,output_size=len_out)\n",
    "model_load.load_state_dict(torch.load(f'explo/models/simple_dnn{model_number}'))\n",
    "model_load.eval()"
   ]
  },
  {
   "cell_type": "code",
   "execution_count": 31,
   "metadata": {},
   "outputs": [
    {
     "name": "stdout",
     "output_type": "stream",
     "text": [
      "Test loss: 0.078582\n"
     ]
    }
   ],
   "source": [
    "# convert numpy array to torch tensor\n",
    "input_test = torch.from_numpy(input_val).float()\n",
    "output_test = torch.from_numpy(output_val).float()\n",
    "tot_losses=0\n",
    "\n",
    "model_load.eval()\n",
    "# prediction\n",
    "output_pred = model_load(input_test)\n",
    "# compute loss\n",
    "loss = F.mse_loss(output_pred, output_test, reduction='sum') / (input_test.shape[0]//batch_size)\n",
    "\n",
    "print('Test loss: {:.6f}'.format(loss))"
   ]
  },
  {
   "cell_type": "code",
   "execution_count": 32,
   "metadata": {},
   "outputs": [
    {
     "data": {
      "text/plain": [
       "torch.Size([3328, 376])"
      ]
     },
     "execution_count": 32,
     "metadata": {},
     "output_type": "execute_result"
    }
   ],
   "source": [
    "output_test.shape"
   ]
  },
  {
   "cell_type": "markdown",
   "metadata": {},
   "source": [
    "Plot the coarse grained heat flux (both predicted and real) from the reconstructed output and objective of the DNN."
   ]
  },
  {
   "cell_type": "code",
   "execution_count": 33,
   "metadata": {},
   "outputs": [
    {
     "name": "stdout",
     "output_type": "stream",
     "text": [
      "t = 47\n"
     ]
    },
    {
     "data": {
      "image/png": "[encoded data removed]",
      "text/plain": [
       "<Figure size 1152x288 with 6 Axes>"
      ]
     },
     "metadata": {
      "needs_background": "light"
     },
     "output_type": "display_data"
    },
    {
     "name": "stdout",
     "output_type": "stream",
     "text": [
      "0.032957267 0.0019904096 0.007690647\n"
     ]
    }
   ],
   "source": [
    "t = 0\n",
    "z=50\n",
    "largeur = int(512/L)\n",
    "pred_ds = output_pred[t*largeur**2:(t+1)*largeur**2,:].cpu().detach().numpy()\n",
    "true_ds = output_test[t*largeur**2:(t+1)*largeur**2,:].cpu().detach().numpy()\n",
    "\n",
    "#print(pred_ds)\n",
    "print('t =',test_times[t])\n",
    "utils.plot_output(pred_ds,true_ds,L,z,color='RdBu_r')\n",
    "\n",
    "print(pred_ds[:,z].max(),pred_ds[:,z].min(), true_ds[:,z].mean())"
   ]
  },
  {
   "cell_type": "markdown",
   "metadata": {},
   "source": [
    "Plot the coarse grained heat flux from Adrien's written nc files."
   ]
  },
  {
   "cell_type": "code",
   "execution_count": 34,
   "metadata": {},
   "outputs": [
    {
     "name": "stdout",
     "output_type": "stream",
     "text": [
      "temperature mean,min,max: 3.107692055082101e-14 -0.025928363800019533 0.06368198776248349\n",
      "wtheta mean,min,max : 0.007690647472325263 0.00011705226289217578 0.03993448963055981\n"
     ]
    },
    {
     "data": {
      "image/png": "[encoded data removed]",
      "text/plain": [
       "<Figure size 432x288 with 2 Axes>"
      ]
     },
     "metadata": {
      "needs_background": "light"
     },
     "output_type": "display_data"
    }
   ],
   "source": [
    "path_data = Directory+f'/input_ds_for_simple_nn_T{test_times[t]}_L_{L}.nc'\n",
    "nc_init = nc.Dataset(path_data)\n",
    "test_ds = nc_init['sample'][:].filled()[:,-len_out+z].reshape(16,16)\n",
    "theta_ds = nc_init['sample'][:].filled()[:,3*len_out+z].reshape(16,16)\n",
    "print('temperature mean,min,max:', theta_ds.mean(),theta_ds.min(),theta_ds.max())\n",
    "print('wtheta mean,min,max :',test_ds.mean(),test_ds.min(),test_ds.max())\n",
    "im = plt.imshow(test_ds , cmap = 'RdBu_r' , interpolation = 'nearest' )\n",
    "plt.colorbar(im, orientation='vertical', fraction=0.046, pad=0.04)\n",
    "plt.title(f\"2-D Heat Map of w*theta at t={test_times[t]} and z={z}\")\n",
    "plt.show()"
   ]
  },
  {
   "cell_type": "markdown",
   "metadata": {},
   "source": [
    "## Define baseline model"
   ]
  },
  {
   "cell_type": "markdown",
   "metadata": {},
   "source": [
    "Baseline model : $\\overline{w*\\theta} \\simeq \\overline{w}*\\overline{\\theta}$"
   ]
  },
  {
   "cell_type": "markdown",
   "metadata": {},
   "source": [
    "Comparison of objective heat flux, baseline heat flux and element wise difference of them."
   ]
  },
  {
   "cell_type": "code",
   "execution_count": 35,
   "metadata": {},
   "outputs": [
    {
     "data": {
      "text/plain": [
       "(256,)"
      ]
     },
     "execution_count": 35,
     "metadata": {},
     "output_type": "execute_result"
    }
   ],
   "source": [
    "path_data = Directory+f'/input_ds_for_simple_nn_T{test_times[t]}_L_{L}.nc'\n",
    "nc_init = nc.Dataset(path_data)\n",
    "time_ds = nc_init['sample'][:].filled()\n",
    "time_ds[:,len_in:][:,z].shape"
   ]
  },
  {
   "cell_type": "code",
   "execution_count": 36,
   "metadata": {
    "tags": []
   },
   "outputs": [
    {
     "name": "stdout",
     "output_type": "stream",
     "text": [
      "47\n",
      "Mean,min,max temperature fluctuation : 3.107692055082101e-14 -0.025928363800019533 0.06368198776248349\n",
      "Mean,min,max true heat flux : 0.007690647472325263 0.00011705226289217578 0.03993448963055981\n",
      "Mean,min,max baseline heat flux : 0.002810038635018621 -0.0065995156433784 0.030299148909679992\n"
     ]
    },
    {
     "data": {
      "image/png": "[encoded data removed]",
      "text/plain": [
       "<Figure size 1152x288 with 6 Axes>"
      ]
     },
     "metadata": {
      "needs_background": "light"
     },
     "output_type": "display_data"
    }
   ],
   "source": [
    "from mpl_toolkits.axes_grid1 import make_axes_locatable\n",
    "\n",
    "t=0\n",
    "lz=376\n",
    "#z=100     # equivalent to z=18 : first alt is 18\n",
    "print(test_times[t])\n",
    "path_data = Directory+f'/input_ds_for_simple_nn_T{test_times[t]}_L_32.nc'  #'data/L_32_new/input_ds_for_simple_nn_T10_L_32.nc'\n",
    "nc_init = nc.Dataset(path_data)\n",
    "true_heat_flux = nc_init[f'sample'][:].filled()[:,-len_out:][:,z].reshape(16,16)        # -len_out because : last len_out values are wtheta, z is wtheta at alt z\n",
    "\n",
    "w_arr = nc_init[f'sample'][:].filled()[:,2*len_out:3*len_out][:,z].reshape(16,16)        # variables are [u,v,w,theta,s,tka,wtheta] so 2*len_out is w\n",
    "theta_arr = nc_init[f'sample'][:].filled()[:,3*len_out:4*len_out][:,z].reshape(16,16)    # variables are [u,v,w,theta,s,tka,wtheta] so 3*len_out is theta\n",
    "baseline_heat_flux = w_arr*theta_arr\n",
    "\n",
    "print('Mean,min,max temperature fluctuation :',theta_arr.mean(),theta_arr.min(),theta_arr.max())\n",
    "print('Mean,min,max true heat flux :',true_heat_flux.mean(),true_heat_flux.min(),true_heat_flux.max())\n",
    "print('Mean,min,max baseline heat flux :',baseline_heat_flux.mean(),baseline_heat_flux.min(),baseline_heat_flux.max())\n",
    "\n",
    "fig,axes = plt.subplots(1,3,figsize=(16,4))\n",
    "\n",
    "im0 = axes[0].imshow(true_heat_flux , cmap = 'RdBu_r' , interpolation = 'nearest' )\n",
    "fig.colorbar(im0, ax=axes[0], orientation='vertical', fraction=0.046, pad=0.04)\n",
    "axes[0].set_title(f\"2-D Heat Map of true w*theta at t={test_times[t]} and z={z}\")\n",
    "\n",
    "im1 = axes[1].imshow(baseline_heat_flux , cmap = 'RdBu_r' , interpolation = 'nearest' )\n",
    "fig.colorbar(im1, ax=axes[1], orientation='vertical', fraction=0.046, pad=0.04)\n",
    "axes[1].set_title(f\"2-D Heat Map of baseline w*theta at t={test_times[t]} and z={z}\")\n",
    "\n",
    "im2 = axes[2].imshow(np.abs(true_heat_flux - baseline_heat_flux) , cmap = 'RdBu_r' , interpolation = 'nearest' )\n",
    "fig.colorbar(im2, ax=axes[2], orientation='vertical', fraction=0.046, pad=0.04)\n",
    "axes[2].set_title(f\"Diff between objective and baseline w*theta at t={test_times[t]} and z={z}\")\n",
    "\n",
    "fig.tight_layout()\n",
    "plt.show()"
   ]
  },
  {
   "cell_type": "markdown",
   "metadata": {},
   "source": [
    "Problem : with $\\theta$ and not $\\theta'$, the baseline seems to be way closer to the objective than NN.\n",
    "\n",
    "Normal vu que on utilise $\\theta$ et non pas $\\theta'$ donc on a $\\theta \\simeq 293K$ en permanence. On peut donc le considérer comme constant et $\\overline{\\theta} = \\theta$, d'où $$\\overline{w*\\theta} = \\overline{w*\\overline{\\theta}} =\\overline{w}*\\overline{\\theta}$$\n",
    "\n",
    "-> il faut considérer $\\theta'$"
   ]
  },
  {
   "cell_type": "markdown",
   "metadata": {},
   "source": [
    "Si on considère $\\theta'$, on remarque que le baseline model approxime bien le flux de chaleur sur les zones où il n'y a quasi pas de flux (grandes zones) et mal sur les zones de fort flux (petites zones qui sont donc moyennées avec ce qui les entoure).\n",
    "\n",
    "-> On peut faire mieux."
   ]
  },
  {
   "cell_type": "markdown",
   "metadata": {},
   "source": [
    "## Compare model and baseline"
   ]
  },
  {
   "cell_type": "code",
   "execution_count": 37,
   "metadata": {},
   "outputs": [],
   "source": [
    "w_arr = nc_init[f'sample'][:].filled()[:,2*len_out:3*len_out].reshape(16,16,376)       # variables are [u,v,w,theta,s,tka,wtheta] so 2*len_out is w\n",
    "theta_arr = nc_init[f'sample'][:].filled()[:,3*len_out:4*len_out].reshape(16,16,376)     # variables are [u,v,w,theta,s,tka,wtheta] so 3*len_out is theta\n",
    "\n",
    "baseline_arr = w_arr*theta_arr\n",
    "pred_arr = pred_ds.reshape(16,16,376)\n",
    "true_arr = true_ds.reshape(16,16,376)"
   ]
  },
  {
   "cell_type": "code",
   "execution_count": 38,
   "metadata": {},
   "outputs": [
    {
     "name": "stdout",
     "output_type": "stream",
     "text": [
      "baseline loss : 1.843042490266357\n",
      "pred loss : 0.6156740070553477\n"
     ]
    }
   ],
   "source": [
    "baseline_loss = 0\n",
    "for i in range(16):\n",
    "    for j in range(16):\n",
    "        for a in range(376):\n",
    "            baseline_loss += (true_arr[i,j,a] - baseline_arr[i,j,a])**2\n",
    "            \n",
    "pred_loss = 0\n",
    "for i in range(16):\n",
    "    for j in range(16):\n",
    "        for a in range(376):\n",
    "            pred_loss += (true_arr[i,j,a] - pred_arr[i,j,a])**2\n",
    "            \n",
    "print('baseline loss :',baseline_loss)\n",
    "print('pred loss :', pred_loss)"
   ]
  },
  {
   "cell_type": "markdown",
   "metadata": {},
   "source": [
    "Basline loss on 1 test time (256 samples) is $1.843042490266357$.\n",
    "\n",
    "Model 8 loss on 1 test time (256 samples) is $0.5357984236829396$.\n",
    "\n",
    "Model 9 loss on 1 test time (256 samples) is $0.61567400705534776$.\n",
    "\n",
    "Model 8 is simple dnn with 3 hidden layers of size (1024, 512, 256) and a learning rate of $10^{-6}$. Trained for 400 epochs (no overfitting yet).\n",
    "\n",
    "Model 9 is simple dnn with 3 hidden layers of size (1024, 512, 256) and an exp decaying learning rate starting at $10^{-5}$ and with $\\gamma = 0.99$ until the 500th epoch : $lr = 6.6*10^{-8}$. Trained for 1000 epochs. Either lr too small after 500 epochs or we've reach the best we can do before overfitting.\n"
   ]
  },
  {
   "cell_type": "code",
   "execution_count": null,
   "metadata": {},
   "outputs": [],
   "source": []
  }
 ],
 "metadata": {
  "interpreter": {
   "hash": "aee8b7b246df8f9039afb4144a1f6fd8d2ca17a180786b69acc140d282b71a49"
  },
  "kernelspec": {
   "display_name": "Pangeo (2019.09.12 - py3.7)",
   "language": "python",
   "name": "python3"
  },
  "language_info": {
   "codemirror_mode": {
    "name": "ipython",
    "version": 3
   },
   "file_extension": ".py",
   "mimetype": "text/x-python",
   "name": "python",
   "nbconvert_exporter": "python",
   "pygments_lexer": "ipython3",
   "version": "3.10.4"
  }
 },
 "nbformat": 4,
 "nbformat_minor": 4
}
