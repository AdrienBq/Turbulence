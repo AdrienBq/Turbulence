{
 "cells": [
  {
   "cell_type": "code",
   "execution_count": 2,
   "metadata": {},
   "outputs": [],
   "source": [
    "import pandas as pd\n",
    "import xarray as xr\n",
    "import numpy as np\n",
    "import matplotlib.pyplot as plt\n",
    "from tqdm import tqdm, trange\n",
    "import netCDF4 as nc\n",
    "\n",
    "import os\n",
    "import sys\n",
    "from pathlib import Path\n",
    "\n",
    "os.chdir(Path(sys.path[0]).parent)\n",
    "import modules.utils as utils\n",
    "\n",
    "import torch\n",
    "import torch.nn as nn\n",
    "import torch.nn.functional as F"
   ]
  },
  {
   "cell_type": "markdown",
   "metadata": {},
   "source": [
    "## Prepare data"
   ]
  },
  {
   "cell_type": "code",
   "execution_count": 3,
   "metadata": {},
   "outputs": [],
   "source": [
    "coarse_factors = [32]\n",
    "Directory = f\"data\"\n",
    "variables=['u', 'v', 'w', 'theta', 's', 'tke', 'wtheta']\n",
    "nz=376\n",
    "\n",
    "full_len_in = nz*(len(variables)-1)\n",
    "len_in = nz\n",
    "\n",
    "model_number = 11\n",
    "tmin=1\n",
    "tmax=62+1\n",
    "\n",
    "device = torch.device(\"cuda:0\" if torch.cuda.is_available() else \"cpu\")\n",
    "# print('using cuda : ', torch.cuda.is_available())\n",
    "\n",
    "path_times_train = f'data/test_train_times/times_train_{model_number}.csv'\n",
    "path_times_test = f'data/test_train_times/times_test_{model_number}.csv'\n",
    "isFile = os.path.isfile(path_times_train) and os.path.isfile(path_times_test)\n",
    "#print(isFile)\n",
    "\n",
    "if not isFile :\n",
    "    utils.split_times(tmin,tmax,model_number)\n",
    "    \n",
    "train_times = pd.read_csv(path_times_train).drop(columns=['Unnamed: 0']).to_numpy().transpose()[0]\n",
    "test_times = pd.read_csv(path_times_test).drop(columns=['Unnamed: 0']).to_numpy().transpose()[0]\n",
    "\n",
    "device = torch.device(\"cuda:0\" if torch.cuda.is_available() else \"cpu\")\n",
    "\n",
    "_, _, input_test, _ = utils.make_train_test_ds(coarse_factors, full_len_in, train_times, test_times, Directory)\n",
    "input_test = input_test.reshape(-1,len(variables)-1,nz)\n",
    "\n",
    "for i in range(len(variables)-1):\n",
    "    input_test[:,i] -= torch.mean(input_test[:,i])\n",
    "    input_test[:,i] /= torch.std(input_test[:,i])"
   ]
  },
  {
   "cell_type": "code",
   "execution_count": 4,
   "metadata": {},
   "outputs": [
    {
     "data": {
      "text/plain": [
       "torch.Size([3328, 376])"
      ]
     },
     "execution_count": 4,
     "metadata": {},
     "output_type": "execute_result"
    }
   ],
   "source": [
    "input_U = input_test[:,0]\n",
    "input_V = input_test[:,1]\n",
    "input_W = input_test[:,2]\n",
    "input_Theta = input_test[:,3]\n",
    "input_S = input_test[:,4]\n",
    "input_TKE = input_test[:,5]\n",
    "\n",
    "input_U.shape"
   ]
  },
  {
   "cell_type": "code",
   "execution_count": 5,
   "metadata": {},
   "outputs": [],
   "source": [
    "z=150\n",
    "\n",
    "hori_U = input_test[:,0]\n",
    "l = int(np.sqrt(hori_U.shape[0]/test_times.shape[0]))\n",
    "hori_U = hori_U[:l**2].reshape(l,l,-1)\n",
    "\n",
    "hori_V = input_test[:l**2,1].reshape(l,l,-1)\n",
    "hori_W = input_test[:l**2,2].reshape(l,l,-1)\n",
    "hori_Thta = input_test[:l**2,3].reshape(l,l,-1)\n",
    "hori_S = input_test[:l**2,4].reshape(l,l,-1)\n",
    "hori_TKE = input_test[:l**2,5].reshape(l,l,-1)"
   ]
  },
  {
   "cell_type": "code",
   "execution_count": 6,
   "metadata": {},
   "outputs": [
    {
     "data": {
      "image/png": "[encoded data removed]",
      "text/plain": [
       "<Figure size 432x288 with 2 Axes>"
      ]
     },
     "metadata": {
      "needs_background": "light"
     },
     "output_type": "display_data"
    }
   ],
   "source": [
    "im = plt.imshow(hori_W[:,:,z])\n",
    "im = plt.imshow(hori_W[:,:,z] , cmap = 'RdBu_r' , interpolation = 'nearest' )\n",
    "plt.colorbar(im)\n",
    "plt.title(f\"2-D Heat Map of u\")\n",
    "plt.show()"
   ]
  },
  {
   "cell_type": "markdown",
   "metadata": {},
   "source": [
    "Turbulence on ligne 4 : between the 49th and 64th samples\n",
    "\n",
    "Check variance vertically for these samples and for samples on ligne 1 (between 1st and 16th samples).\n",
    "\n",
    "Check variance horizontally for square around turbulent cell"
   ]
  },
  {
   "cell_type": "code",
   "execution_count": 7,
   "metadata": {},
   "outputs": [
    {
     "name": "stdout",
     "output_type": "stream",
     "text": [
      "vertical variance in turbulent zone : 2.218759 , 1.8950505 , 1.2108034\n",
      "vertical variance in laminar zone : 0.04957265 , 0.2165661 , 0.23964939\n"
     ]
    }
   ],
   "source": [
    "print('vertical variance in turbulent zone :', input_W[50,:].numpy().var(),',', input_W[55,:].numpy().var(),',', input_W[60,:].numpy().var())\n",
    "print('vertical variance in laminar zone :', input_W[0,:].numpy().var(),',', input_W[5,:].numpy().var(),',', input_W[10,:].numpy().var())"
   ]
  },
  {
   "cell_type": "code",
   "execution_count": 8,
   "metadata": {},
   "outputs": [
    {
     "name": "stdout",
     "output_type": "stream",
     "text": [
      "torch.Size([5, 5])\n",
      "horizontal variance in turbulent zone : 5.880849 , 2.6521287\n",
      "horizontal variance in laminar zone : 0.36272424 , 0.8623388\n"
     ]
    }
   ],
   "source": [
    "print(hori_W[0:5,1:6,z].shape)\n",
    "#Attention, les axes x et y sont inversés\n",
    "print('horizontal variance in turbulent zone :', hori_W[2:5,0:3,z].numpy().var(),',', hori_W[2:5,5:9,z].numpy().var())\n",
    "print('horizontal variance in laminar zone :', hori_W[0:3,0:3,z].numpy().var(),',', hori_W[0:3,5:9,z].numpy().var())\n"
   ]
  },
  {
   "cell_type": "code",
   "execution_count": null,
   "metadata": {},
   "outputs": [],
   "source": []
  }
 ],
 "metadata": {
  "interpreter": {
   "hash": "aee8b7b246df8f9039afb4144a1f6fd8d2ca17a180786b69acc140d282b71a49"
  },
  "kernelspec": {
   "display_name": "Python 3.10.4 64-bit",
   "language": "python",
   "name": "python3"
  },
  "language_info": {
   "codemirror_mode": {
    "name": "ipython",
    "version": 3
   },
   "file_extension": ".py",
   "mimetype": "text/x-python",
   "name": "python",
   "nbconvert_exporter": "python",
   "pygments_lexer": "ipython3",
   "version": "3.10.4"
  },
  "orig_nbformat": 4
 },
 "nbformat": 4,
 "nbformat_minor": 2
}
