{
 "cells": [
  {
   "cell_type": "code",
   "execution_count": 3,
   "metadata": {},
   "outputs": [],
   "source": [
    "import pandas as df\n",
    "import xarray as xr\n",
    "import numpy as np\n",
    "import matplotlib.pyplot as plt\n",
    "#from tqdm.notebook import tqdm, trange\n",
    "\n",
    "import os\n",
    "import sys\n",
    "from pathlib import Path\n",
    "\n",
    "os.chdir(Path(sys.path[0]).parent)\n",
    "import modules.utils as utils"
   ]
  },
  {
   "cell_type": "code",
   "execution_count": 7,
   "metadata": {},
   "outputs": [
    {
     "name": "stdout",
     "output_type": "stream",
     "text": [
      "['u', 'v', 'w', 'theta', 'tke', 'wtheta']\n",
      "writing out\n"
     ]
    }
   ],
   "source": [
    "Directory = \"data\"\n",
    "L = 32\n",
    "\n",
    "u_ds = utils.concatenate_time(Directory, 'u')\n",
    "v_ds = utils.concatenate_time(Directory, 'v')\n",
    "w_ds = utils.concatenate_time(Directory, 'w')\n",
    "theta_ds = utils.concatenate_time(Directory, 'theta')\n",
    "assert u_ds.shape == v_ds.shape == w_ds.shape == theta_ds.shape, 'u,v,w,theta have different shape'\n",
    "\n",
    "u_coarse = utils.coarse_array(u_ds, L)\n",
    "v_coarse = utils.coarse_array(v_ds, L)\n",
    "w_coarse = utils.coarse_array(w_ds, L)\n",
    "\n",
    "wtheta_ds = w_ds*theta_ds\n",
    "tke_ds = utils.coarse_array(u_ds*u_ds, L) - u_coarse*u_coarse + utils.coarse_array(v_ds*v_ds, L) - v_coarse*v_coarse + utils.coarse_array(w_ds*w_ds, L) - w_coarse*w_coarse\n",
    "tke_in = utils.variable_samples(tke_ds, 1)\n",
    "output_ds = utils.variable_samples(wtheta_ds, L)\n",
    "\n",
    "variables = ['u', 'v', 'w', 'theta']  # add 's' \n",
    "input_ds = utils.input_dataset(Directory, variables, L)\n",
    "tot_ds = np.concatenate((np.concatenate((input_ds,tke_in), axis=1), output_ds), axis=1)\n",
    "\n",
    "variables.append('tke')\n",
    "variables.append('wtheta')\n",
    "print(variables)\n",
    "\n",
    "utils.write_nc_file(tot_ds,str(L),variables,4)"
   ]
  },
  {
   "cell_type": "code",
   "execution_count": 8,
   "metadata": {},
   "outputs": [
    {
     "data": {
      "text/plain": [
       "<bound method NDFrame.head of              sample\n",
       "index i            \n",
       "0     0   14.980471\n",
       "      1   14.990431\n",
       "      2   15.000865\n",
       "      3   15.009308\n",
       "      4    0.500632\n",
       "...             ...\n",
       "255   19   0.875857\n",
       "      20   0.132721\n",
       "      21   0.138177\n",
       "      22   0.143849\n",
       "      23   0.149717\n",
       "\n",
       "[6144 rows x 1 columns]>"
      ]
     },
     "execution_count": 8,
     "metadata": {},
     "output_type": "execute_result"
    }
   ],
   "source": [
    "path_data = 'data/input_dataset_L_32.nc'\n",
    "ds_init = xr.open_dataset(path_data)\n",
    "df_init = ds_init.to_dataframe()\n",
    "df_init.head"
   ]
  },
  {
   "cell_type": "code",
   "execution_count": 13,
   "metadata": {},
   "outputs": [
    {
     "data": {
      "text/plain": [
       "(256, 24)"
      ]
     },
     "execution_count": 13,
     "metadata": {},
     "output_type": "execute_result"
    }
   ],
   "source": [
    "nz=4\n",
    "len_samples = nz*len(variables)\n",
    "tot_ds = df_init.to_numpy()\n",
    "n_samples = len(tot_ds)//len_samples\n",
    "tot_ds = tot_ds.reshape(n_samples, len_samples)\n",
    "tot_ds.shape"
   ]
  },
  {
   "cell_type": "code",
   "execution_count": null,
   "metadata": {},
   "outputs": [],
   "source": []
  }
 ],
 "metadata": {
  "interpreter": {
   "hash": "2126593c4ba056f374a5f953e7ab3e7ee968bf458a40de64ddebe48ce9256529"
  },
  "kernelspec": {
   "display_name": "Python 3.8.3 ('base')",
   "language": "python",
   "name": "python3"
  },
  "language_info": {
   "codemirror_mode": {
    "name": "ipython",
    "version": 3
   },
   "file_extension": ".py",
   "mimetype": "text/x-python",
   "name": "python",
   "nbconvert_exporter": "python",
   "pygments_lexer": "ipython3",
   "version": "3.8.3"
  },
  "orig_nbformat": 4
 },
 "nbformat": 4,
 "nbformat_minor": 2
}
