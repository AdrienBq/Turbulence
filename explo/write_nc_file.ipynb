{
 "cells": [
  {
   "cell_type": "code",
   "execution_count": 1,
   "metadata": {},
   "outputs": [],
   "source": [
    "import pandas as pd\n",
    "import numpy as np\n",
    "import matplotlib.pyplot as plt\n",
    "from tqdm import trange\n",
    "import re\n",
    "import netCDF4 as nc\n",
    "\n",
    "import os\n",
    "import sys\n",
    "from pathlib import Path\n",
    "\n",
    "os.chdir(Path(sys.path[0]).parent)\n",
    "import modules.utils as utils\n",
    "\n",
    "import multiprocessing as mp"
   ]
  },
  {
   "cell_type": "markdown",
   "metadata": {
    "jp-MarkdownHeadingCollapsed": true,
    "tags": []
   },
   "source": [
    "### Without parallel computing"
   ]
  },
  {
   "cell_type": "code",
   "execution_count": null,
   "metadata": {},
   "outputs": [],
   "source": [
    "Directory = \"data\"\n",
    "L = 32\n",
    "\n",
    "files = [name for name in os.listdir(Directory) if  name.__contains__(\"uxy\")]\n",
    "temp = [int(re.split('(\\d+)', name)[3]) for name in files]\n",
    "times = [t for n, t in enumerate(temp) if t not in temp[:n]]\n",
    "times.sort()\n",
    "\n",
    "for t in times:\n",
    "    u_ds = utils.concatenate_alt(Directory, 'u', t)\n",
    "    v_ds = utils.concatenate_alt(Directory, 'v', t)\n",
    "    w_ds = utils.concatenate_alt(Directory, 'w', t)\n",
    "    theta_ds = utils.concatenate_alt(Directory, 'theta', t)\n",
    "    assert u_ds.shape == v_ds.shape == w_ds.shape == theta_ds.shape, 'u,v,w,theta have different shape'\n",
    "\n",
    "    u_coarse = utils.coarse_array(u_ds, L)\n",
    "    v_coarse = utils.coarse_array(v_ds, L)\n",
    "    w_coarse = utils.coarse_array(w_ds, L)\n",
    "    theta_coarse = utils.coarse_array(theta_ds, L)\n",
    "\n",
    "    wtheta_ds = w_ds*theta_ds\n",
    "    output_ds = utils.variable_samples(utils.coarse_array(wtheta_ds, L))\n",
    "    tke_ds = utils.coarse_array(u_ds*u_ds, L) - u_coarse*u_coarse + utils.coarse_array(v_ds*v_ds, L) - v_coarse*v_coarse + utils.coarse_array(w_ds*w_ds, L) - w_coarse*w_coarse\n",
    "    tke_in = utils.variable_samples(tke_ds)\n",
    "\n",
    "    variables = ['u', 'v', 'w', 'theta']  # add 's'\n",
    "    datasets = [u_coarse, v_coarse, w_coarse, theta_coarse]  # add 's'\n",
    "    input_ds = utils.input_dataset(datasets)\n",
    "    tot_ds = np.concatenate((np.concatenate((input_ds,tke_in), axis=1), output_ds), axis=1)\n",
    "\n",
    "    variables.append('tke')\n",
    "    variables.append('wtheta')\n",
    "    print(variables)\n",
    "\n",
    "    utils.write_nc_file(tot_ds,L,variables,t,4)"
   ]
  },
  {
   "cell_type": "markdown",
   "metadata": {
    "jp-MarkdownHeadingCollapsed": true,
    "tags": []
   },
   "source": [
    "### With synchronous parallel computing"
   ]
  },
  {
   "cell_type": "code",
   "execution_count": 2,
   "metadata": {},
   "outputs": [],
   "source": [
    "Directory = \"data\"  #\"/glade/scratch/sshamekh/LES_512_ug16wtspt01_data\"\n",
    "L = 32\n",
    "\n",
    "files = [name for name in os.listdir(Directory) if  name.__contains__(\"uxy\")]\n",
    "temp = [int(re.split('(\\d+)', name)[3]) for name in files]\n",
    "times = [t for n, t in enumerate(temp) if t not in temp[:n]]\n",
    "times.sort()\n",
    "\n",
    "for t in times:\n",
    "    variables = ['u', 'v', 'w', 'theta']  # add 's' \n",
    "    \n",
    "    pool=mp.Pool(mp.cpu_count())\n",
    "    raw_ds = [pool.apply(utils.concatenate_alt, args=(Directory,variables[i],t)) for i in trange(len(variables))]\n",
    "    pool.close()\n",
    "\n",
    "    assert raw_ds[0].shape == raw_ds[1].shape == raw_ds[2].shape == raw_ds[3].shape ,'u,v,w,theta have different shape'\n",
    "\n",
    "    pool=mp.Pool(mp.cpu_count())\n",
    "    coarse_ds = [pool.apply(utils.coarse_array, args=(raw_ds[i], L)) for i in trange(len(raw_ds))]\n",
    "    pool.close()\n",
    "\n",
    "    wtheta_ds = raw_ds[2]*raw_ds[3]\n",
    "    output_ds = utils.variable_samples(utils.coarse_array(wtheta_ds, L))\n",
    "\n",
    "    tke_ds = utils.coarse_array(raw_ds[0]*raw_ds[0], L) - coarse_ds[0]*coarse_ds[0] + utils.coarse_array(raw_ds[1]*raw_ds[1], L) - coarse_ds[1]*coarse_ds[1] + utils.coarse_array(raw_ds[2]*raw_ds[2], L) - coarse_ds[2]*coarse_ds[2]\n",
    "    tke_in = utils.variable_samples(tke_ds)\n",
    "\n",
    "    datasets = [coarse_ds[i] for i in range(len(variables))]  # add 's'\n",
    "    input_ds = utils.input_dataset(datasets)\n",
    "    tot_ds = np.concatenate((np.concatenate((input_ds,tke_in), axis=1), output_ds), axis=1)\n",
    "\n",
    "    variables.append('tke')\n",
    "    variables.append('wtheta')\n",
    "    print(variables)\n",
    "\n",
    "    utils.write_nc_file(tot_ds,L,variables,t,4)"
   ]
  },
  {
   "cell_type": "markdown",
   "metadata": {},
   "source": [
    "### With Asynchronous parallel computing"
   ]
  },
  {
   "cell_type": "code",
   "execution_count": 2,
   "metadata": {},
   "outputs": [
    {
     "name": "stderr",
     "output_type": "stream",
     "text": [
      "100%|██████████| 63/63 [1:40:10<00:00, 95.40s/it]\n"
     ]
    }
   ],
   "source": [
    "Directory = \"/glade/scratch/sshamekh/LES_512_ug16wtspt01_data\"\n",
    "coarse_factors=[16,64,128]\n",
    "\n",
    "files = [name for name in os.listdir(Directory) if  name.__contains__(\"uxy\")]\n",
    "temp = [int(re.split('(\\d+)', name)[3]) for name in files]\n",
    "times = [t for n, t in enumerate(temp) if t not in temp[:n]]\n",
    "times.sort()\n",
    "\n",
    "for t in trange(1,len(times)+1):\n",
    "    variables = ['u', 'v', 'w', 'theta', 's']  # add 's' to predict tracer flux\n",
    "    pool=mp.Pool(mp.cpu_count())\n",
    "    result_objects_raw = [pool.apply_async(utils.concatenate_alt, args=(Directory,variables[i],t,i,False)) for i in range(len(variables))]\n",
    "    raw_ds = [r.get()[1] for r in result_objects_raw]   # raw_ds[0] (resp 1,2,3) is the u (resp v,w,theta',s) dataset of shape(1,lz,512,512) with lz usually 376.\n",
    "    raw_ds[3][0] = 300*(raw_ds[3][0]-raw_ds[3][0].mean(axis=(1,2)).reshape(raw_ds[3][0].shape[0],1,1))  # theta' : variations of theta instead of whole theta\n",
    "    pool.close()\n",
    "    pool.join() \n",
    "\n",
    "    assert raw_ds[0].shape == raw_ds[1].shape == raw_ds[2].shape == raw_ds[3].shape == raw_ds[4].shape ,'u,v,w,theta,s have different shape'\n",
    "\n",
    "    wtheta_ds = raw_ds[2]*raw_ds[3]\n",
    "    \n",
    "    for L in coarse_factors:\n",
    "        pool=mp.Pool(mp.cpu_count())\n",
    "        result_objects_coarse = [pool.apply_async(utils.coarse_array, args=(raw_ds[i], L,i,False)) for i in range(len(raw_ds))]\n",
    "        coarse_ds = [r.get()[1] for r in result_objects_coarse]\n",
    "        pool.close()\n",
    "        pool.join()\n",
    "\n",
    "        output_ds = utils.variable_samples(utils.coarse_array(wtheta_ds, L))\n",
    "\n",
    "        tke_ds = utils.coarse_array(raw_ds[0]*raw_ds[0], L) - coarse_ds[0]*coarse_ds[0] + utils.coarse_array(raw_ds[1]*raw_ds[1], L) - coarse_ds[1]*coarse_ds[1] + utils.coarse_array(raw_ds[2]*raw_ds[2], L) - coarse_ds[2]*coarse_ds[2]\n",
    "        tke_in = utils.variable_samples(tke_ds)\n",
    "\n",
    "        datasets = [coarse_ds[i] for i in range(len(variables))] \n",
    "        input_ds = utils.input_dataset(datasets)\n",
    "        tot_ds = np.concatenate((np.concatenate((input_ds,tke_in), axis=1), output_ds), axis=1)\n",
    "\n",
    "        variables.append('tke')\n",
    "        variables.append('wtheta')\n",
    "\n",
    "        utils.write_nc_file(tot_ds,str(L),variables,t)\n",
    "        variables = ['u', 'v', 'w', 'theta', 's']"
   ]
  },
  {
   "cell_type": "markdown",
   "metadata": {},
   "source": [
    "We notice that coarse_wtheta is very close to coarse_w*coarse_theta : each term is of order 10e-2 and diff of each term is of order 10e-5.\n",
    "\n",
    "This means that it might be hard to do better with ML."
   ]
  },
  {
   "cell_type": "markdown",
   "metadata": {},
   "source": [
    "## Check results"
   ]
  },
  {
   "cell_type": "code",
   "execution_count": 4,
   "metadata": {},
   "outputs": [
    {
     "data": {
      "text/plain": [
       "(256, 24)"
      ]
     },
     "execution_count": 4,
     "metadata": {},
     "output_type": "execute_result"
    }
   ],
   "source": [
    "path_data = 'data/L_32/input_ds_for_simple_nn_T10_L_32.nc'\n",
    "nc_init = nc.Dataset(path_data)\n",
    "arr = nc_init[f'sample'][:].filled()[:,:]\n",
    "arr.shape"
   ]
  },
  {
   "cell_type": "code",
   "execution_count": null,
   "metadata": {},
   "outputs": [],
   "source": []
  }
 ],
 "metadata": {
  "interpreter": {
   "hash": "aee8b7b246df8f9039afb4144a1f6fd8d2ca17a180786b69acc140d282b71a49"
  },
  "kernelspec": {
   "display_name": "NPL (conda)",
   "language": "python",
   "name": "python3"
  },
  "language_info": {
   "codemirror_mode": {
    "name": "ipython",
    "version": 3
   },
   "file_extension": ".py",
   "mimetype": "text/x-python",
   "name": "python",
   "nbconvert_exporter": "python",
   "pygments_lexer": "ipython3",
   "version": "3.10.4"
  }
 },
 "nbformat": 4,
 "nbformat_minor": 4
}
