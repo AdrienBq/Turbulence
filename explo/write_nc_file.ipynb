{
 "cells": [
  {
   "cell_type": "code",
   "execution_count": 1,
   "metadata": {},
   "outputs": [],
   "source": [
    "import pandas as pd\n",
    "import xarray as xr\n",
    "import numpy as np\n",
    "import matplotlib.pyplot as plt\n",
    "from tqdm import trange\n",
    "import re\n",
    "\n",
    "import os\n",
    "import sys\n",
    "from pathlib import Path\n",
    "\n",
    "os.chdir(Path(sys.path[0]).parent)\n",
    "import modules.utils as utils\n",
    "\n",
    "import multiprocess as mp"
   ]
  },
  {
   "cell_type": "markdown",
   "metadata": {},
   "source": [
    "### Without parallel computing"
   ]
  },
  {
   "cell_type": "code",
   "execution_count": 4,
   "metadata": {},
   "outputs": [
    {
     "name": "stdout",
     "output_type": "stream",
     "text": [
      "['u', 'v', 'w', 'theta', 'tke', 'wtheta']\n",
      "writing out\n"
     ]
    }
   ],
   "source": [
    "Directory = \"data\"\n",
    "L = 32\n",
    "\n",
    "files = [name for name in os.listdir(Directory) if  name.__contains__(\"uxy\")]\n",
    "temp = [int(re.split('(\\d+)', name)[3]) for name in files]\n",
    "times = [t for n, t in enumerate(temp) if t not in temp[:n]]\n",
    "times.sort()\n",
    "\n",
    "for t in times:\n",
    "    u_ds = utils.concatenate_alt(Directory, 'u', t)\n",
    "    v_ds = utils.concatenate_alt(Directory, 'v', t)\n",
    "    w_ds = utils.concatenate_alt(Directory, 'w', t)\n",
    "    theta_ds = utils.concatenate_alt(Directory, 'theta', t)\n",
    "    assert u_ds.shape == v_ds.shape == w_ds.shape == theta_ds.shape, 'u,v,w,theta have different shape'\n",
    "\n",
    "    u_coarse = utils.coarse_array(u_ds, L)\n",
    "    v_coarse = utils.coarse_array(v_ds, L)\n",
    "    w_coarse = utils.coarse_array(w_ds, L)\n",
    "    theta_coarse = utils.coarse_array(theta_ds, L)\n",
    "\n",
    "    wtheta_ds = w_ds*theta_ds\n",
    "    output_ds = utils.variable_samples(utils.coarse_array(wtheta_ds, L))\n",
    "    tke_ds = utils.coarse_array(u_ds*u_ds, L) - u_coarse*u_coarse + utils.coarse_array(v_ds*v_ds, L) - v_coarse*v_coarse + utils.coarse_array(w_ds*w_ds, L) - w_coarse*w_coarse\n",
    "    tke_in = utils.variable_samples(tke_ds)\n",
    "\n",
    "    variables = ['u', 'v', 'w', 'theta']  # add 's'\n",
    "    datasets = [u_coarse, v_coarse, w_coarse, theta_coarse]  # add 's'\n",
    "    input_ds = utils.input_dataset(datasets)\n",
    "    tot_ds = np.concatenate((np.concatenate((input_ds,tke_in), axis=1), output_ds), axis=1)\n",
    "\n",
    "    variables.append('tke')\n",
    "    variables.append('wtheta')\n",
    "    print(variables)\n",
    "\n",
    "    utils.write_nc_file(tot_ds,L,variables,t,4)"
   ]
  },
  {
   "cell_type": "markdown",
   "metadata": {},
   "source": [
    "### With synchronous parallel computing"
   ]
  },
  {
   "cell_type": "code",
   "execution_count": 5,
   "metadata": {},
   "outputs": [
    {
     "name": "stderr",
     "output_type": "stream",
     "text": [
      "100%|██████████| 4/4 [00:00<00:00,  7.47it/s]\n",
      "100%|██████████| 4/4 [00:00<00:00, 25.83it/s]\n"
     ]
    },
    {
     "name": "stdout",
     "output_type": "stream",
     "text": [
      "['u', 'v', 'w', 'theta', 'tke', 'wtheta']\n",
      "writing out\n"
     ]
    }
   ],
   "source": [
    "Directory = \"data\"  #\"/glade/scratch/sshamekh/LES_512_ug16wtspt01_data\"\n",
    "L = 32\n",
    "\n",
    "files = [name for name in os.listdir(Directory) if  name.__contains__(\"uxy\")]\n",
    "temp = [int(re.split('(\\d+)', name)[3]) for name in files]\n",
    "times = [t for n, t in enumerate(temp) if t not in temp[:n]]\n",
    "times.sort()\n",
    "\n",
    "for t in times:\n",
    "    variables = ['u', 'v', 'w', 'theta']  # add 's' \n",
    "    \n",
    "    pool=mp.Pool(mp.cpu_count())\n",
    "    raw_ds = [pool.apply(utils.concatenate_alt, args=(Directory,variables[i],t)) for i in trange(len(variables))]\n",
    "    pool.close()\n",
    "\n",
    "    assert raw_ds[0].shape == raw_ds[1].shape == raw_ds[2].shape == raw_ds[3].shape ,'u,v,w,theta have different shape'\n",
    "\n",
    "    pool=mp.Pool(mp.cpu_count())\n",
    "    coarse_ds = [pool.apply(utils.coarse_array, args=(raw_ds[i], L)) for i in trange(len(raw_ds))]\n",
    "    pool.close()\n",
    "\n",
    "    wtheta_ds = raw_ds[2]*raw_ds[3]\n",
    "    output_ds = utils.variable_samples(utils.coarse_array(wtheta_ds, L))\n",
    "\n",
    "    tke_ds = utils.coarse_array(raw_ds[0]*raw_ds[0], L) - coarse_ds[0]*coarse_ds[0] + utils.coarse_array(raw_ds[1]*raw_ds[1], L) - coarse_ds[1]*coarse_ds[1] + utils.coarse_array(raw_ds[2]*raw_ds[2], L) - coarse_ds[2]*coarse_ds[2]\n",
    "    tke_in = utils.variable_samples(tke_ds)\n",
    "\n",
    "    datasets = [coarse_ds[i] for i in range(len(variables))]  # add 's'\n",
    "    input_ds = utils.input_dataset(datasets)\n",
    "    tot_ds = np.concatenate((np.concatenate((input_ds,tke_in), axis=1), output_ds), axis=1)\n",
    "\n",
    "    variables.append('tke')\n",
    "    variables.append('wtheta')\n",
    "    print(variables)\n",
    "\n",
    "    utils.write_nc_file(tot_ds,L,variables,t,4)"
   ]
  },
  {
   "cell_type": "markdown",
   "metadata": {},
   "source": [
    "### With Asynchronous parallel computing"
   ]
  },
  {
   "cell_type": "code",
   "execution_count": 2,
   "metadata": {},
   "outputs": [
    {
     "name": "stderr",
     "output_type": "stream",
     "text": [
      "100%|██████████| 5/5 [00:00<00:00, 13851.73it/s]\n",
      "100%|██████████| 5/5 [00:00<00:00, 15352.50it/s]\n"
     ]
    },
    {
     "name": "stdout",
     "output_type": "stream",
     "text": [
      "['u', 'v', 'w', 'theta', 's', 'tke', 'wtheta']\n",
      "writing out\n"
     ]
    },
    {
     "ename": "PermissionError",
     "evalue": "[Errno 13] Permission denied: b'data/L_32/input_ds_for_simple_nn_T10_L_32.nc'",
     "output_type": "error",
     "traceback": [
      "\u001b[0;31m---------------------------------------------------------------------------\u001b[0m",
      "\u001b[0;31mPermissionError\u001b[0m                           Traceback (most recent call last)",
      "\u001b[1;32m/Users/adrien/Documents/Cours_Polytechnique_3A/stage/Turbulence/explo/write_nc_file.ipynb Cell 7'\u001b[0m in \u001b[0;36m<cell line: 10>\u001b[0;34m()\u001b[0m\n\u001b[1;32m     <a href='vscode-notebook-cell:/Users/adrien/Documents/Cours_Polytechnique_3A/stage/Turbulence/explo/write_nc_file.ipynb#ch0000006?line=35'>36</a>\u001b[0m variables\u001b[39m.\u001b[39mappend(\u001b[39m'\u001b[39m\u001b[39mwtheta\u001b[39m\u001b[39m'\u001b[39m)\n\u001b[1;32m     <a href='vscode-notebook-cell:/Users/adrien/Documents/Cours_Polytechnique_3A/stage/Turbulence/explo/write_nc_file.ipynb#ch0000006?line=36'>37</a>\u001b[0m \u001b[39mprint\u001b[39m(variables)\n\u001b[0;32m---> <a href='vscode-notebook-cell:/Users/adrien/Documents/Cours_Polytechnique_3A/stage/Turbulence/explo/write_nc_file.ipynb#ch0000006?line=38'>39</a>\u001b[0m utils\u001b[39m.\u001b[39;49mwrite_nc_file(tot_ds,\u001b[39mstr\u001b[39;49m(L),variables,t,\u001b[39m4\u001b[39;49m)\n",
      "File \u001b[0;32m~/Documents/Cours_Polytechnique_3A/stage/Turbulence/modules/utils.py:211\u001b[0m, in \u001b[0;36mwrite_nc_file\u001b[0;34m(data, coarsening_factor, var, time, nz)\u001b[0m\n\u001b[1;32m    <a href='file:///Users/adrien/Documents/Cours_Polytechnique_3A/stage/Turbulence/modules/utils.py?line=207'>208</a>\u001b[0m len_sample \u001b[39m=\u001b[39m \u001b[39mlen\u001b[39m(var\u001b[39m*\u001b[39mnz)\n\u001b[1;32m    <a href='file:///Users/adrien/Documents/Cours_Polytechnique_3A/stage/Turbulence/modules/utils.py?line=209'>210</a>\u001b[0m \u001b[39m# open a netCDF file to write\u001b[39;00m\n\u001b[0;32m--> <a href='file:///Users/adrien/Documents/Cours_Polytechnique_3A/stage/Turbulence/modules/utils.py?line=210'>211</a>\u001b[0m ncout \u001b[39m=\u001b[39m Dataset(\u001b[39mf\u001b[39;49m\u001b[39m'\u001b[39;49m\u001b[39mdata/L_\u001b[39;49m\u001b[39m{\u001b[39;49;00mcoarsening_factor\u001b[39m}\u001b[39;49;00m\u001b[39m/input_ds_for_simple_nn_T\u001b[39;49m\u001b[39m{\u001b[39;49;00mtime\u001b[39m}\u001b[39;49;00m\u001b[39m_L_\u001b[39;49m\u001b[39m{\u001b[39;49;00mcoarsening_factor\u001b[39m}\u001b[39;49;00m\u001b[39m.nc\u001b[39;49m\u001b[39m'\u001b[39;49m, \u001b[39m'\u001b[39;49m\u001b[39mw\u001b[39;49m\u001b[39m'\u001b[39;49m, \u001b[39mformat\u001b[39;49m\u001b[39m=\u001b[39;49m\u001b[39m'\u001b[39;49m\u001b[39mNETCDF4\u001b[39;49m\u001b[39m'\u001b[39;49m)\n\u001b[1;32m    <a href='file:///Users/adrien/Documents/Cours_Polytechnique_3A/stage/Turbulence/modules/utils.py?line=212'>213</a>\u001b[0m \u001b[39m# define axis size\u001b[39;00m\n\u001b[1;32m    <a href='file:///Users/adrien/Documents/Cours_Polytechnique_3A/stage/Turbulence/modules/utils.py?line=213'>214</a>\u001b[0m ncout\u001b[39m.\u001b[39mcreateDimension(\u001b[39m'\u001b[39m\u001b[39mindex\u001b[39m\u001b[39m'\u001b[39m, n_samples)  \n",
      "File \u001b[0;32msrc/netCDF4/_netCDF4.pyx:2307\u001b[0m, in \u001b[0;36mnetCDF4._netCDF4.Dataset.__init__\u001b[0;34m()\u001b[0m\n",
      "File \u001b[0;32msrc/netCDF4/_netCDF4.pyx:1925\u001b[0m, in \u001b[0;36mnetCDF4._netCDF4._ensure_nc_success\u001b[0;34m()\u001b[0m\n",
      "\u001b[0;31mPermissionError\u001b[0m: [Errno 13] Permission denied: b'data/L_32/input_ds_for_simple_nn_T10_L_32.nc'"
     ]
    }
   ],
   "source": [
    "Directory = \"data\"  #\"/glade/scratch/sshamekh/LES_512_ug16wtspt01_data\"\n",
    "L = 32\n",
    "variables = ['u', 'v', 'w', 'theta', 's']  # add 's' \n",
    "\n",
    "files = [name for name in os.listdir(Directory) if  name.__contains__(\"uxy\")]\n",
    "temp = [int(re.split('(\\d+)', name)[3]) for name in files]\n",
    "times = [t for n, t in enumerate(temp) if t not in temp[:n]]\n",
    "times.sort()\n",
    "\n",
    "for t in times:\n",
    "    pool=mp.Pool(mp.cpu_count())\n",
    "    result_objects_raw = [pool.apply_async(utils.concatenate_alt, args=(Directory,variables[i],t,i,False)) for i in trange(len(variables))]\n",
    "    raw_ds = [r.get()[1] for r in result_objects_raw]\n",
    "    pool.close()\n",
    "    pool.join()\n",
    "\n",
    "    assert raw_ds[0].shape == raw_ds[1].shape == raw_ds[2].shape == raw_ds[3].shape ,'u,v,w,theta have different shape'\n",
    "\n",
    "    pool=mp.Pool(mp.cpu_count())\n",
    "    result_objects_coarse = [pool.apply_async(utils.coarse_array, args=(raw_ds[i], L,i,False)) for i in trange(len(raw_ds))]\n",
    "    coarse_ds = [r.get()[1] for r in result_objects_coarse]\n",
    "    pool.close()\n",
    "    pool.join()\n",
    "\n",
    "    wtheta_ds = raw_ds[2]*raw_ds[3]\n",
    "    output_ds = utils.variable_samples(utils.coarse_array(wtheta_ds, L))\n",
    "\n",
    "    tke_ds = utils.coarse_array(raw_ds[0]*raw_ds[0], L) - coarse_ds[0]*coarse_ds[0] + utils.coarse_array(raw_ds[1]*raw_ds[1], L) - coarse_ds[1]*coarse_ds[1] + utils.coarse_array(raw_ds[2]*raw_ds[2], L) - coarse_ds[2]*coarse_ds[2]\n",
    "    tke_in = utils.variable_samples(tke_ds)\n",
    "\n",
    "    datasets = [coarse_ds[i] for i in range(len(variables))]  # add 's'\n",
    "    input_ds = utils.input_dataset(datasets)\n",
    "    tot_ds = np.concatenate((np.concatenate((input_ds,tke_in), axis=1), output_ds), axis=1)\n",
    "\n",
    "    variables.append('tke')\n",
    "    variables.append('wtheta')\n",
    "    print(variables)\n",
    "\n",
    "    utils.write_nc_file(tot_ds,str(L),variables,t,4)"
   ]
  },
  {
   "cell_type": "markdown",
   "metadata": {},
   "source": [
    "## Check results"
   ]
  },
  {
   "cell_type": "code",
   "execution_count": 7,
   "metadata": {},
   "outputs": [
    {
     "data": {
      "text/plain": [
       "(6144, 1)"
      ]
     },
     "execution_count": 7,
     "metadata": {},
     "output_type": "execute_result"
    }
   ],
   "source": [
    "path_data = 'data/L_32/input_ds_for_simple_nn_T10_L_32.nc'\n",
    "ds_init = xr.open_dataset(path_data)\n",
    "df_init = ds_init.to_dataframe()\n",
    "df_init.shape"
   ]
  },
  {
   "cell_type": "code",
   "execution_count": 14,
   "metadata": {},
   "outputs": [
    {
     "data": {
      "text/plain": [
       "(256, 24)"
      ]
     },
     "execution_count": 14,
     "metadata": {},
     "output_type": "execute_result"
    }
   ],
   "source": [
    "nz=4\n",
    "len_samples = nz*len(variables)\n",
    "tot_ds = df_init.to_numpy()\n",
    "n_samples = len(tot_ds)//len_samples\n",
    "tot_ds = tot_ds.reshape(n_samples, len_samples)\n",
    "tot_ds.shape"
   ]
  },
  {
   "cell_type": "code",
   "execution_count": 9,
   "metadata": {},
   "outputs": [
    {
     "data": {
      "text/plain": [
       "array([[-0.11928583, -0.1221244 , -0.12504954, -0.12783829],\n",
       "       [-0.0998517 , -0.10368239, -0.10765759, -0.11176325],\n",
       "       [-0.1558731 , -0.15841225, -0.16097671, -0.16369624],\n",
       "       ...,\n",
       "       [ 0.38581366,  0.39047901,  0.39499218,  0.39963546],\n",
       "       [ 0.27523937,  0.28560953,  0.29628333,  0.30696426],\n",
       "       [ 0.13272098,  0.13817734,  0.14384872,  0.14971746]])"
      ]
     },
     "execution_count": 9,
     "metadata": {},
     "output_type": "execute_result"
    }
   ],
   "source": [
    "tot_ds[:,-4:]"
   ]
  },
  {
   "cell_type": "code",
   "execution_count": null,
   "metadata": {},
   "outputs": [],
   "source": []
  }
 ],
 "metadata": {
  "interpreter": {
   "hash": "2126593c4ba056f374a5f953e7ab3e7ee968bf458a40de64ddebe48ce9256529"
  },
  "kernelspec": {
   "display_name": "Python 3.8.3 ('base')",
   "language": "python",
   "name": "python3"
  },
  "language_info": {
   "codemirror_mode": {
    "name": "ipython",
    "version": 3
   },
   "file_extension": ".py",
   "mimetype": "text/x-python",
   "name": "python",
   "nbconvert_exporter": "python",
   "pygments_lexer": "ipython3",
   "version": "3.10.4"
  },
  "orig_nbformat": 4
 },
 "nbformat": 4,
 "nbformat_minor": 2
}
