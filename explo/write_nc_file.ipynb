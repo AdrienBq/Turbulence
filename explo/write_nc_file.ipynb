{
 "cells": [
  {
   "cell_type": "code",
   "execution_count": 1,
   "metadata": {},
   "outputs": [],
   "source": [
    "import pandas as pd\n",
    "import xarray as xr\n",
    "import numpy as np\n",
    "import matplotlib.pyplot as plt\n",
    "from tqdm import trange\n",
    "\n",
    "import os\n",
    "import sys\n",
    "from pathlib import Path\n",
    "\n",
    "os.chdir(Path(sys.path[0]).parent)\n",
    "import modules.utils as utils\n",
    "\n",
    "import multiprocess as mp\n",
    "import time"
   ]
  },
  {
   "cell_type": "code",
   "execution_count": 4,
   "metadata": {},
   "outputs": [
    {
     "name": "stdout",
     "output_type": "stream",
     "text": [
      "['u', 'v', 'w', 'theta', 'tke', 'wtheta']\n",
      "writing out\n"
     ]
    }
   ],
   "source": [
    "Directory = \"data\"\n",
    "L = 32\n",
    "\n",
    "\n",
    "u_ds = utils.concatenate_time(Directory, 'u')\n",
    "v_ds = utils.concatenate_time(Directory, 'v')\n",
    "w_ds = utils.concatenate_time(Directory, 'w')\n",
    "theta_ds = utils.concatenate_time(Directory, 'theta')\n",
    "assert u_ds.shape == v_ds.shape == w_ds.shape == theta_ds.shape, 'u,v,w,theta have different shape'\n",
    "\n",
    "u_coarse = utils.coarse_array(u_ds, L)\n",
    "v_coarse = utils.coarse_array(v_ds, L)\n",
    "w_coarse = utils.coarse_array(w_ds, L)\n",
    "\n",
    "wtheta_ds = w_ds*theta_ds\n",
    "tke_ds = utils.coarse_array(u_ds*u_ds, L) - u_coarse*u_coarse + utils.coarse_array(v_ds*v_ds, L) - v_coarse*v_coarse + utils.coarse_array(w_ds*w_ds, L) - w_coarse*w_coarse\n",
    "tke_in = utils.variable_samples(tke_ds, 1)\n",
    "output_ds = utils.variable_samples(wtheta_ds, L)\n",
    "\n",
    "variables = ['u', 'v', 'w', 'theta']  # add 's' \n",
    "input_ds = utils.input_dataset(Directory, variables, L)\n",
    "tot_ds = np.concatenate((np.concatenate((input_ds,tke_in), axis=1), output_ds), axis=1)\n",
    "\n",
    "variables.append('tke')\n",
    "variables.append('wtheta')\n",
    "print(variables)\n",
    "\n",
    "utils.write_nc_file(tot_ds,str(L),variables,4)"
   ]
  },
  {
   "cell_type": "code",
   "execution_count": 3,
   "metadata": {},
   "outputs": [
    {
     "name": "stderr",
     "output_type": "stream",
     "text": [
      "100%|██████████| 4/4 [00:00<00:00,  6.31it/s]\n",
      "100%|██████████| 4/4 [00:00<00:00, 20.03it/s]\n"
     ]
    },
    {
     "name": "stdout",
     "output_type": "stream",
     "text": [
      "['u', 'v', 'w', 'theta', 'tke', 'wtheta']\n",
      "writing out\n"
     ]
    }
   ],
   "source": [
    "Directory = \"data\"  #\"/glade/scratch/sshamekh/LES_512_ug16wtspt01_data\"\n",
    "L = 32\n",
    "variables = ['u', 'v', 'w', 'theta']  # add 's' \n",
    "\n",
    "pool=mp.Pool(mp.cpu_count())\n",
    "raw_ds = [pool.apply(utils.concatenate_time, args=(Directory, variables[i])) for i in trange(len(variables))]\n",
    "pool.close()\n",
    "\n",
    "assert raw_ds[0].shape == raw_ds[1].shape == raw_ds[2].shape == raw_ds[3].shape ,'u,v,w,theta have different shape'\n",
    "\n",
    "pool=mp.Pool(mp.cpu_count())\n",
    "coarse_ds = [pool.apply(utils.coarse_array, args=(raw_ds[i], L)) for i in trange(len(raw_ds))]\n",
    "pool.close()\n",
    "\n",
    "wtheta_ds = raw_ds[2]*raw_ds[3]\n",
    "tke_ds = utils.coarse_array(raw_ds[0]*raw_ds[0], L) - coarse_ds[0]*coarse_ds[0] + utils.coarse_array(raw_ds[1]*raw_ds[1], L) - coarse_ds[1]*coarse_ds[1] + utils.coarse_array(raw_ds[2]*raw_ds[2], L) - coarse_ds[2]*coarse_ds[2]\n",
    "tke_in = utils.variable_samples(tke_ds, 1)\n",
    "output_ds = utils.variable_samples(wtheta_ds, L)\n",
    "\n",
    "input_ds = utils.input_dataset(Directory, variables, L)\n",
    "tot_ds = np.concatenate((np.concatenate((input_ds,tke_in), axis=1), output_ds), axis=1)\n",
    "\n",
    "variables.append('tke')\n",
    "variables.append('wtheta')\n",
    "print(variables)\n",
    "\n",
    "utils.write_nc_file(tot_ds,str(L),variables,4)"
   ]
  },
  {
   "cell_type": "code",
   "execution_count": 4,
   "metadata": {},
   "outputs": [
    {
     "data": {
      "text/plain": [
       "(256, 24)"
      ]
     },
     "execution_count": 4,
     "metadata": {},
     "output_type": "execute_result"
    }
   ],
   "source": [
    "nz=4\n",
    "len_samples = nz*len(variables)\n",
    "tot_ds = df_init.to_numpy()\n",
    "n_samples = len(tot_ds)//len_samples\n",
    "tot_ds = tot_ds.reshape(n_samples, len_samples)\n",
    "tot_ds.shape"
   ]
  },
  {
   "cell_type": "code",
   "execution_count": 5,
   "metadata": {},
   "outputs": [
    {
     "name": "stdout",
     "output_type": "stream",
     "text": [
      "writing out\n"
     ]
    }
   ],
   "source": [
    "Directory = \"data\"\n",
    "L = 32\n",
    "\n",
    "var = 'u'\n",
    "\n",
    "ds = utils.concatenate_time(Directory, var)\n",
    "\n",
    "coarse_ds = utils.coarse_array(ds, L)\n",
    "\n",
    "utils.write_coarse_file(coarse_ds,str(L),var,4)"
   ]
  },
  {
   "cell_type": "code",
   "execution_count": null,
   "metadata": {},
   "outputs": [],
   "source": []
  }
 ],
 "metadata": {
  "interpreter": {
   "hash": "2126593c4ba056f374a5f953e7ab3e7ee968bf458a40de64ddebe48ce9256529"
  },
  "kernelspec": {
   "display_name": "Python 3.8.3 ('base')",
   "language": "python",
   "name": "python3"
  },
  "language_info": {
   "codemirror_mode": {
    "name": "ipython",
    "version": 3
   },
   "file_extension": ".py",
   "mimetype": "text/x-python",
   "name": "python",
   "nbconvert_exporter": "python",
   "pygments_lexer": "ipython3",
   "version": "3.10.4"
  },
  "orig_nbformat": 4
 },
 "nbformat": 4,
 "nbformat_minor": 2
}
